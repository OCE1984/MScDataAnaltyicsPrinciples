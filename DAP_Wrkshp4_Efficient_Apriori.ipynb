{
  "nbformat": 4,
  "nbformat_minor": 0,
  "metadata": {
    "colab": {
      "provenance": []
    },
    "kernelspec": {
      "name": "python3",
      "display_name": "Python 3"
    },
    "language_info": {
      "name": "python"
    }
  },
  "cells": [
    {
      "cell_type": "code",
      "source": [
        "!pip install efficient_apriori"
      ],
      "metadata": {
        "id": "MzRI3Q82vKRX"
      },
      "execution_count": null,
      "outputs": []
    },
    {
      "cell_type": "code",
      "execution_count": 35,
      "metadata": {
        "id": "wrEKYdsit_WW"
      },
      "outputs": [],
      "source": [
        "import numpy as np\n",
        "from efficient_apriori import apriori\n",
        "import pandas as pd"
      ]
    },
    {
      "cell_type": "code",
      "source": [
        "#a demo of apriori with loaded array\n",
        "transactions = [('eggs','bacon', 'soup'), ('eggs', 'bacon', 'apple'), ('soup', 'bacon',' banana')]\n",
        "itemsets, rules = apriori(transactions , min_support= 0.5, min_confidence =1)\n",
        "print(rules)"
      ],
      "metadata": {
        "id": "lAibVAiyuZ3h"
      },
      "execution_count": null,
      "outputs": []
    },
    {
      "cell_type": "markdown",
      "source": [
        "Workshop 4 Question 6"
      ],
      "metadata": {
        "id": "rQXTYUycvttL"
      }
    },
    {
      "cell_type": "code",
      "source": [
        "dataframe = pd.read_csv(\"LibertyTrans.csv\")\n",
        "columns = ['Barley', 'Corn', 'Millet', 'Rice', 'Wheat']\n",
        "final_transaction_list = []\n",
        "for index in range(len(dataframe)):\n",
        "  item = dataframe.loc[index]\n",
        "  temp_list = []\n",
        "  for column in columns:\n",
        "    if item[column] == 1:\n",
        "      temp_list.append(column)\n",
        "  final_transaction_list.append(temp_list)\n",
        "\n",
        "print(f\"\\nTransaction list is:\\n\")\n",
        "print(final_transaction_list)\n",
        "\n",
        "items, rules = apriori(final_transaction_list, min_support = 0.33, min_confidence = 0.6)\n",
        "\n",
        "print(f\"\\nHere are the association rules:\\n\")\n",
        "for rule in rules:\n",
        "  print(rule)"
      ],
      "metadata": {
        "id": "3uyq-OXvvqKR"
      },
      "execution_count": null,
      "outputs": []
    },
    {
      "cell_type": "code",
      "source": [
        "items"
      ],
      "metadata": {
        "id": "SrmW0gCuXMyD"
      },
      "execution_count": null,
      "outputs": []
    },
    {
      "cell_type": "code",
      "source": [
        "for rule in rules:\n",
        "  if rule.lift > 1 and rule.conviction >1:\n",
        "    print(rule)"
      ],
      "metadata": {
        "id": "SaYNQCyq1gA3"
      },
      "execution_count": null,
      "outputs": []
    },
    {
      "cell_type": "code",
      "source": [
        "results = list(rules)\n",
        "len(results)"
      ],
      "metadata": {
        "colab": {
          "base_uri": "https://localhost:8080/"
        },
        "id": "WhwAWQmhSzBB",
        "outputId": "b287b667-980d-4c55-9b97-15084937ab5a"
      },
      "execution_count": 42,
      "outputs": [
        {
          "output_type": "execute_result",
          "data": {
            "text/plain": [
              "37"
            ]
          },
          "metadata": {},
          "execution_count": 42
        }
      ]
    },
    {
      "cell_type": "code",
      "source": [
        "results[0]"
      ],
      "metadata": {
        "id": "xr2sdTDyVHg2"
      },
      "execution_count": null,
      "outputs": []
    },
    {
      "cell_type": "code",
      "source": [
        "ResultsFrame = pd.DataFrame(columns=('Items','Antecedent','Consequent','Support','Confidence','Lift', 'Conviction'))\n",
        "\n",
        "Support =[]\n",
        "Confidence = []\n",
        "Lift = []\n",
        "Items = []\n",
        "Antecedent = []\n",
        "Consequent=[]\n",
        "Conviction = []\n",
        "\n",
        "for RelationRecord in results:\n",
        "\n",
        "        Support.append(RelationRecord.support)\n",
        "        Itemset=[RelationRecord.lhs,RelationRecord.rhs]\n",
        "        Items.append(Itemset)\n",
        "        Antecedent.append(RelationRecord.lhs)\n",
        "        Consequent.append(RelationRecord.rhs)\n",
        "        Confidence.append(RelationRecord.confidence)\n",
        "        Lift.append(RelationRecord.lift)\n",
        "        Conviction.append(RelationRecord.conviction)\n",
        "\n",
        "ResultsFrame['Items'] = list(map(set, Items))\n",
        "ResultsFrame['Antecedent'] = list(map(set, Antecedent))\n",
        "ResultsFrame['Consequent'] = list(map(set, Consequent))\n",
        "ResultsFrame['Support'] = Support\n",
        "ResultsFrame['Confidence'] = Confidence\n",
        "ResultsFrame['Lift']= Lift\n",
        "ResultsFrame['Conviction'] = Conviction\n"
      ],
      "metadata": {
        "id": "_S-4tRgQS62i"
      },
      "execution_count": 47,
      "outputs": []
    },
    {
      "cell_type": "code",
      "source": [
        "ResultsFrame"
      ],
      "metadata": {
        "id": "vjBGSf_zYcSn"
      },
      "execution_count": null,
      "outputs": []
    },
    {
      "cell_type": "code",
      "source": [
        "ResultsFrame.sort_values(by ='Lift', ascending = False, inplace = True)"
      ],
      "metadata": {
        "id": "FI0PCmpDYuQY"
      },
      "execution_count": 49,
      "outputs": []
    },
    {
      "cell_type": "code",
      "source": [
        "ResultsFrame"
      ],
      "metadata": {
        "id": "ZDYnUTW6YwXW"
      },
      "execution_count": null,
      "outputs": []
    }
  ]
}