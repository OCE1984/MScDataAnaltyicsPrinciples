{
  "nbformat": 4,
  "nbformat_minor": 0,
  "metadata": {
    "colab": {
      "provenance": [],
      "include_colab_link": true
    },
    "kernelspec": {
      "name": "python3",
      "display_name": "Python 3"
    },
    "language_info": {
      "name": "python"
    }
  },
  "cells": [
    {
      "cell_type": "markdown",
      "metadata": {
        "id": "view-in-github",
        "colab_type": "text"
      },
      "source": [
        "<a href=\"https://colab.research.google.com/github/OCE1984/MScDataAnaltyicsPrinciples/blob/main/DAP_Wrkshp4_Efficient_Apriori.ipynb\" target=\"_parent\"><img src=\"https://colab.research.google.com/assets/colab-badge.svg\" alt=\"Open In Colab\"/></a>"
      ]
    },
    {
      "cell_type": "code",
      "source": [
        "!pip install efficient_apriori"
      ],
      "metadata": {
        "id": "MzRI3Q82vKRX",
        "outputId": "073f7215-bc6e-40fb-8f59-1f32ec9b4521",
        "colab": {
          "base_uri": "https://localhost:8080/"
        }
      },
      "execution_count": 1,
      "outputs": [
        {
          "output_type": "stream",
          "name": "stdout",
          "text": [
            "Collecting efficient_apriori\n",
            "  Downloading efficient_apriori-2.0.5-py3-none-any.whl.metadata (6.7 kB)\n",
            "Downloading efficient_apriori-2.0.5-py3-none-any.whl (14 kB)\n",
            "Installing collected packages: efficient_apriori\n",
            "Successfully installed efficient_apriori-2.0.5\n"
          ]
        }
      ]
    },
    {
      "cell_type": "code",
      "execution_count": 2,
      "metadata": {
        "id": "wrEKYdsit_WW"
      },
      "outputs": [],
      "source": [
        "import numpy as np\n",
        "from efficient_apriori import apriori\n",
        "import pandas as pd"
      ]
    },
    {
      "cell_type": "code",
      "source": [
        "#a demo of apriori with loaded array\n",
        "transactions = [('eggs','bacon', 'soup'), ('eggs', 'bacon', 'apple'), ('soup', 'bacon',' banana')]\n",
        "itemsets, rules = apriori(transactions , min_support= 0.5, min_confidence =1)\n",
        "print(rules)"
      ],
      "metadata": {
        "id": "lAibVAiyuZ3h",
        "outputId": "1075699c-8f44-418c-b45d-f364e17a91ac",
        "colab": {
          "base_uri": "https://localhost:8080/"
        }
      },
      "execution_count": 3,
      "outputs": [
        {
          "output_type": "stream",
          "name": "stdout",
          "text": [
            "[{eggs} -> {bacon}, {soup} -> {bacon}]\n"
          ]
        }
      ]
    },
    {
      "cell_type": "markdown",
      "source": [
        "Workshop 4 Question 6"
      ],
      "metadata": {
        "id": "rQXTYUycvttL"
      }
    },
    {
      "cell_type": "code",
      "source": [
        "dataframe = pd.read_csv(\"LibertyTrans.csv\")\n",
        "dataframe.head()"
      ],
      "metadata": {
        "id": "A20iXDAH29x5",
        "outputId": "abe1101b-1524-4f98-ae22-04fe0f5b9c47",
        "colab": {
          "base_uri": "https://localhost:8080/",
          "height": 204
        }
      },
      "execution_count": 5,
      "outputs": [
        {
          "output_type": "execute_result",
          "data": {
            "text/plain": [
              "  Transaction  Barley  Corn  Gram  Millet  Rice  Wheat\n",
              "0      Number     NaN   NaN   NaN     NaN   NaN    NaN\n",
              "1           1     1.0   1.0   1.0     1.0   1.0    1.0\n",
              "2           2     NaN   1.0   NaN     1.0   1.0    1.0\n",
              "3           3     1.0   1.0   NaN     NaN   1.0    1.0\n",
              "4           4     NaN   1.0   1.0     NaN   1.0    1.0"
            ],
            "text/html": [
              "\n",
              "  <div id=\"df-1b111994-614c-4f84-921c-f6d586897815\" class=\"colab-df-container\">\n",
              "    <div>\n",
              "<style scoped>\n",
              "    .dataframe tbody tr th:only-of-type {\n",
              "        vertical-align: middle;\n",
              "    }\n",
              "\n",
              "    .dataframe tbody tr th {\n",
              "        vertical-align: top;\n",
              "    }\n",
              "\n",
              "    .dataframe thead th {\n",
              "        text-align: right;\n",
              "    }\n",
              "</style>\n",
              "<table border=\"1\" class=\"dataframe\">\n",
              "  <thead>\n",
              "    <tr style=\"text-align: right;\">\n",
              "      <th></th>\n",
              "      <th>Transaction</th>\n",
              "      <th>Barley</th>\n",
              "      <th>Corn</th>\n",
              "      <th>Gram</th>\n",
              "      <th>Millet</th>\n",
              "      <th>Rice</th>\n",
              "      <th>Wheat</th>\n",
              "    </tr>\n",
              "  </thead>\n",
              "  <tbody>\n",
              "    <tr>\n",
              "      <th>0</th>\n",
              "      <td>Number</td>\n",
              "      <td>NaN</td>\n",
              "      <td>NaN</td>\n",
              "      <td>NaN</td>\n",
              "      <td>NaN</td>\n",
              "      <td>NaN</td>\n",
              "      <td>NaN</td>\n",
              "    </tr>\n",
              "    <tr>\n",
              "      <th>1</th>\n",
              "      <td>1</td>\n",
              "      <td>1.0</td>\n",
              "      <td>1.0</td>\n",
              "      <td>1.0</td>\n",
              "      <td>1.0</td>\n",
              "      <td>1.0</td>\n",
              "      <td>1.0</td>\n",
              "    </tr>\n",
              "    <tr>\n",
              "      <th>2</th>\n",
              "      <td>2</td>\n",
              "      <td>NaN</td>\n",
              "      <td>1.0</td>\n",
              "      <td>NaN</td>\n",
              "      <td>1.0</td>\n",
              "      <td>1.0</td>\n",
              "      <td>1.0</td>\n",
              "    </tr>\n",
              "    <tr>\n",
              "      <th>3</th>\n",
              "      <td>3</td>\n",
              "      <td>1.0</td>\n",
              "      <td>1.0</td>\n",
              "      <td>NaN</td>\n",
              "      <td>NaN</td>\n",
              "      <td>1.0</td>\n",
              "      <td>1.0</td>\n",
              "    </tr>\n",
              "    <tr>\n",
              "      <th>4</th>\n",
              "      <td>4</td>\n",
              "      <td>NaN</td>\n",
              "      <td>1.0</td>\n",
              "      <td>1.0</td>\n",
              "      <td>NaN</td>\n",
              "      <td>1.0</td>\n",
              "      <td>1.0</td>\n",
              "    </tr>\n",
              "  </tbody>\n",
              "</table>\n",
              "</div>\n",
              "    <div class=\"colab-df-buttons\">\n",
              "\n",
              "  <div class=\"colab-df-container\">\n",
              "    <button class=\"colab-df-convert\" onclick=\"convertToInteractive('df-1b111994-614c-4f84-921c-f6d586897815')\"\n",
              "            title=\"Convert this dataframe to an interactive table.\"\n",
              "            style=\"display:none;\">\n",
              "\n",
              "  <svg xmlns=\"http://www.w3.org/2000/svg\" height=\"24px\" viewBox=\"0 -960 960 960\">\n",
              "    <path d=\"M120-120v-720h720v720H120Zm60-500h600v-160H180v160Zm220 220h160v-160H400v160Zm0 220h160v-160H400v160ZM180-400h160v-160H180v160Zm440 0h160v-160H620v160ZM180-180h160v-160H180v160Zm440 0h160v-160H620v160Z\"/>\n",
              "  </svg>\n",
              "    </button>\n",
              "\n",
              "  <style>\n",
              "    .colab-df-container {\n",
              "      display:flex;\n",
              "      gap: 12px;\n",
              "    }\n",
              "\n",
              "    .colab-df-convert {\n",
              "      background-color: #E8F0FE;\n",
              "      border: none;\n",
              "      border-radius: 50%;\n",
              "      cursor: pointer;\n",
              "      display: none;\n",
              "      fill: #1967D2;\n",
              "      height: 32px;\n",
              "      padding: 0 0 0 0;\n",
              "      width: 32px;\n",
              "    }\n",
              "\n",
              "    .colab-df-convert:hover {\n",
              "      background-color: #E2EBFA;\n",
              "      box-shadow: 0px 1px 2px rgba(60, 64, 67, 0.3), 0px 1px 3px 1px rgba(60, 64, 67, 0.15);\n",
              "      fill: #174EA6;\n",
              "    }\n",
              "\n",
              "    .colab-df-buttons div {\n",
              "      margin-bottom: 4px;\n",
              "    }\n",
              "\n",
              "    [theme=dark] .colab-df-convert {\n",
              "      background-color: #3B4455;\n",
              "      fill: #D2E3FC;\n",
              "    }\n",
              "\n",
              "    [theme=dark] .colab-df-convert:hover {\n",
              "      background-color: #434B5C;\n",
              "      box-shadow: 0px 1px 3px 1px rgba(0, 0, 0, 0.15);\n",
              "      filter: drop-shadow(0px 1px 2px rgba(0, 0, 0, 0.3));\n",
              "      fill: #FFFFFF;\n",
              "    }\n",
              "  </style>\n",
              "\n",
              "    <script>\n",
              "      const buttonEl =\n",
              "        document.querySelector('#df-1b111994-614c-4f84-921c-f6d586897815 button.colab-df-convert');\n",
              "      buttonEl.style.display =\n",
              "        google.colab.kernel.accessAllowed ? 'block' : 'none';\n",
              "\n",
              "      async function convertToInteractive(key) {\n",
              "        const element = document.querySelector('#df-1b111994-614c-4f84-921c-f6d586897815');\n",
              "        const dataTable =\n",
              "          await google.colab.kernel.invokeFunction('convertToInteractive',\n",
              "                                                    [key], {});\n",
              "        if (!dataTable) return;\n",
              "\n",
              "        const docLinkHtml = 'Like what you see? Visit the ' +\n",
              "          '<a target=\"_blank\" href=https://colab.research.google.com/notebooks/data_table.ipynb>data table notebook</a>'\n",
              "          + ' to learn more about interactive tables.';\n",
              "        element.innerHTML = '';\n",
              "        dataTable['output_type'] = 'display_data';\n",
              "        await google.colab.output.renderOutput(dataTable, element);\n",
              "        const docLink = document.createElement('div');\n",
              "        docLink.innerHTML = docLinkHtml;\n",
              "        element.appendChild(docLink);\n",
              "      }\n",
              "    </script>\n",
              "  </div>\n",
              "\n",
              "\n",
              "<div id=\"df-725fc5cc-c2bf-4b59-a226-ab13102dda4d\">\n",
              "  <button class=\"colab-df-quickchart\" onclick=\"quickchart('df-725fc5cc-c2bf-4b59-a226-ab13102dda4d')\"\n",
              "            title=\"Suggest charts\"\n",
              "            style=\"display:none;\">\n",
              "\n",
              "<svg xmlns=\"http://www.w3.org/2000/svg\" height=\"24px\"viewBox=\"0 0 24 24\"\n",
              "     width=\"24px\">\n",
              "    <g>\n",
              "        <path d=\"M19 3H5c-1.1 0-2 .9-2 2v14c0 1.1.9 2 2 2h14c1.1 0 2-.9 2-2V5c0-1.1-.9-2-2-2zM9 17H7v-7h2v7zm4 0h-2V7h2v10zm4 0h-2v-4h2v4z\"/>\n",
              "    </g>\n",
              "</svg>\n",
              "  </button>\n",
              "\n",
              "<style>\n",
              "  .colab-df-quickchart {\n",
              "      --bg-color: #E8F0FE;\n",
              "      --fill-color: #1967D2;\n",
              "      --hover-bg-color: #E2EBFA;\n",
              "      --hover-fill-color: #174EA6;\n",
              "      --disabled-fill-color: #AAA;\n",
              "      --disabled-bg-color: #DDD;\n",
              "  }\n",
              "\n",
              "  [theme=dark] .colab-df-quickchart {\n",
              "      --bg-color: #3B4455;\n",
              "      --fill-color: #D2E3FC;\n",
              "      --hover-bg-color: #434B5C;\n",
              "      --hover-fill-color: #FFFFFF;\n",
              "      --disabled-bg-color: #3B4455;\n",
              "      --disabled-fill-color: #666;\n",
              "  }\n",
              "\n",
              "  .colab-df-quickchart {\n",
              "    background-color: var(--bg-color);\n",
              "    border: none;\n",
              "    border-radius: 50%;\n",
              "    cursor: pointer;\n",
              "    display: none;\n",
              "    fill: var(--fill-color);\n",
              "    height: 32px;\n",
              "    padding: 0;\n",
              "    width: 32px;\n",
              "  }\n",
              "\n",
              "  .colab-df-quickchart:hover {\n",
              "    background-color: var(--hover-bg-color);\n",
              "    box-shadow: 0 1px 2px rgba(60, 64, 67, 0.3), 0 1px 3px 1px rgba(60, 64, 67, 0.15);\n",
              "    fill: var(--button-hover-fill-color);\n",
              "  }\n",
              "\n",
              "  .colab-df-quickchart-complete:disabled,\n",
              "  .colab-df-quickchart-complete:disabled:hover {\n",
              "    background-color: var(--disabled-bg-color);\n",
              "    fill: var(--disabled-fill-color);\n",
              "    box-shadow: none;\n",
              "  }\n",
              "\n",
              "  .colab-df-spinner {\n",
              "    border: 2px solid var(--fill-color);\n",
              "    border-color: transparent;\n",
              "    border-bottom-color: var(--fill-color);\n",
              "    animation:\n",
              "      spin 1s steps(1) infinite;\n",
              "  }\n",
              "\n",
              "  @keyframes spin {\n",
              "    0% {\n",
              "      border-color: transparent;\n",
              "      border-bottom-color: var(--fill-color);\n",
              "      border-left-color: var(--fill-color);\n",
              "    }\n",
              "    20% {\n",
              "      border-color: transparent;\n",
              "      border-left-color: var(--fill-color);\n",
              "      border-top-color: var(--fill-color);\n",
              "    }\n",
              "    30% {\n",
              "      border-color: transparent;\n",
              "      border-left-color: var(--fill-color);\n",
              "      border-top-color: var(--fill-color);\n",
              "      border-right-color: var(--fill-color);\n",
              "    }\n",
              "    40% {\n",
              "      border-color: transparent;\n",
              "      border-right-color: var(--fill-color);\n",
              "      border-top-color: var(--fill-color);\n",
              "    }\n",
              "    60% {\n",
              "      border-color: transparent;\n",
              "      border-right-color: var(--fill-color);\n",
              "    }\n",
              "    80% {\n",
              "      border-color: transparent;\n",
              "      border-right-color: var(--fill-color);\n",
              "      border-bottom-color: var(--fill-color);\n",
              "    }\n",
              "    90% {\n",
              "      border-color: transparent;\n",
              "      border-bottom-color: var(--fill-color);\n",
              "    }\n",
              "  }\n",
              "</style>\n",
              "\n",
              "  <script>\n",
              "    async function quickchart(key) {\n",
              "      const quickchartButtonEl =\n",
              "        document.querySelector('#' + key + ' button');\n",
              "      quickchartButtonEl.disabled = true;  // To prevent multiple clicks.\n",
              "      quickchartButtonEl.classList.add('colab-df-spinner');\n",
              "      try {\n",
              "        const charts = await google.colab.kernel.invokeFunction(\n",
              "            'suggestCharts', [key], {});\n",
              "      } catch (error) {\n",
              "        console.error('Error during call to suggestCharts:', error);\n",
              "      }\n",
              "      quickchartButtonEl.classList.remove('colab-df-spinner');\n",
              "      quickchartButtonEl.classList.add('colab-df-quickchart-complete');\n",
              "    }\n",
              "    (() => {\n",
              "      let quickchartButtonEl =\n",
              "        document.querySelector('#df-725fc5cc-c2bf-4b59-a226-ab13102dda4d button');\n",
              "      quickchartButtonEl.style.display =\n",
              "        google.colab.kernel.accessAllowed ? 'block' : 'none';\n",
              "    })();\n",
              "  </script>\n",
              "</div>\n",
              "\n",
              "    </div>\n",
              "  </div>\n"
            ],
            "application/vnd.google.colaboratory.intrinsic+json": {
              "type": "dataframe",
              "variable_name": "dataframe",
              "summary": "{\n  \"name\": \"dataframe\",\n  \"rows\": 13,\n  \"fields\": [\n    {\n      \"column\": \"Transaction\",\n      \"properties\": {\n        \"dtype\": \"string\",\n        \"num_unique_values\": 13,\n        \"samples\": [\n          \"11\",\n          \"9\",\n          \"Number\"\n        ],\n        \"semantic_type\": \"\",\n        \"description\": \"\"\n      }\n    },\n    {\n      \"column\": \"Barley\",\n      \"properties\": {\n        \"dtype\": \"number\",\n        \"std\": 0.0,\n        \"min\": 1.0,\n        \"max\": 1.0,\n        \"num_unique_values\": 1,\n        \"samples\": [\n          1.0\n        ],\n        \"semantic_type\": \"\",\n        \"description\": \"\"\n      }\n    },\n    {\n      \"column\": \"Corn\",\n      \"properties\": {\n        \"dtype\": \"number\",\n        \"std\": 0.0,\n        \"min\": 1.0,\n        \"max\": 1.0,\n        \"num_unique_values\": 1,\n        \"samples\": [\n          1.0\n        ],\n        \"semantic_type\": \"\",\n        \"description\": \"\"\n      }\n    },\n    {\n      \"column\": \"Gram\",\n      \"properties\": {\n        \"dtype\": \"number\",\n        \"std\": 0.0,\n        \"min\": 1.0,\n        \"max\": 1.0,\n        \"num_unique_values\": 1,\n        \"samples\": [\n          1.0\n        ],\n        \"semantic_type\": \"\",\n        \"description\": \"\"\n      }\n    },\n    {\n      \"column\": \"Millet\",\n      \"properties\": {\n        \"dtype\": \"number\",\n        \"std\": 0.0,\n        \"min\": 1.0,\n        \"max\": 1.0,\n        \"num_unique_values\": 1,\n        \"samples\": [\n          1.0\n        ],\n        \"semantic_type\": \"\",\n        \"description\": \"\"\n      }\n    },\n    {\n      \"column\": \"Rice\",\n      \"properties\": {\n        \"dtype\": \"number\",\n        \"std\": 0.0,\n        \"min\": 1.0,\n        \"max\": 1.0,\n        \"num_unique_values\": 1,\n        \"samples\": [\n          1.0\n        ],\n        \"semantic_type\": \"\",\n        \"description\": \"\"\n      }\n    },\n    {\n      \"column\": \"Wheat\",\n      \"properties\": {\n        \"dtype\": \"number\",\n        \"std\": 0.0,\n        \"min\": 1.0,\n        \"max\": 1.0,\n        \"num_unique_values\": 1,\n        \"samples\": [\n          1.0\n        ],\n        \"semantic_type\": \"\",\n        \"description\": \"\"\n      }\n    }\n  ]\n}"
            }
          },
          "metadata": {},
          "execution_count": 5
        }
      ]
    },
    {
      "cell_type": "code",
      "source": [
        "dataframe = pd.read_csv(\"LibertyTrans.csv\")\n",
        "dataframe.head()\n",
        "columns = ['Barley', 'Corn', 'Millet', 'Rice', 'Wheat']\n",
        "final_transaction_list = []\n",
        "for index in range(len(dataframe)):\n",
        "  item = dataframe.loc[index]\n",
        "  temp_list = []\n",
        "  for column in columns:\n",
        "    if item[column] == 1:\n",
        "      temp_list.append(column)\n",
        "  final_transaction_list.append(temp_list)\n",
        "\n",
        "print(f\"\\nTransaction list is:\\n\")\n",
        "print(final_transaction_list)\n",
        "\n",
        "items, rules = apriori(final_transaction_list, min_support = 0.33, min_confidence = 0.6)\n",
        "\n",
        "print(f\"\\nHere are the association rules:\\n\")\n",
        "for rule in rules:\n",
        "  print(rule)"
      ],
      "metadata": {
        "id": "3uyq-OXvvqKR",
        "outputId": "4e47eb6b-a0d1-44c7-c3af-82784c0f5e60",
        "colab": {
          "base_uri": "https://localhost:8080/"
        }
      },
      "execution_count": 6,
      "outputs": [
        {
          "output_type": "stream",
          "name": "stdout",
          "text": [
            "\n",
            "Transaction list is:\n",
            "\n",
            "[[], ['Barley', 'Corn', 'Millet', 'Rice', 'Wheat'], ['Corn', 'Millet', 'Rice', 'Wheat'], ['Barley', 'Corn', 'Rice', 'Wheat'], ['Corn', 'Rice', 'Wheat'], ['Barley', 'Millet', 'Rice'], ['Rice', 'Wheat'], ['Barley', 'Millet', 'Rice', 'Wheat'], ['Millet', 'Rice', 'Wheat'], ['Barley', 'Corn', 'Millet'], ['Barley', 'Corn', 'Rice', 'Wheat'], ['Barley', 'Millet', 'Rice', 'Wheat'], ['Barley', 'Corn', 'Millet', 'Rice', 'Wheat']]\n",
            "\n",
            "Here are the association rules:\n",
            "\n",
            "{Corn} -> {Barley} (conf: 0.714, supp: 0.385, lift: 1.161, conv: 1.346)\n",
            "{Barley} -> {Corn} (conf: 0.625, supp: 0.385, lift: 1.161, conv: 1.231)\n",
            "{Millet} -> {Barley} (conf: 0.750, supp: 0.462, lift: 1.219, conv: 1.538)\n",
            "{Barley} -> {Millet} (conf: 0.750, supp: 0.462, lift: 1.219, conv: 1.538)\n",
            "{Rice} -> {Barley} (conf: 0.636, supp: 0.538, lift: 1.034, conv: 1.058)\n",
            "{Barley} -> {Rice} (conf: 0.875, supp: 0.538, lift: 1.034, conv: 1.231)\n",
            "{Wheat} -> {Barley} (conf: 0.600, supp: 0.462, lift: 0.975, conv: 0.962)\n",
            "{Barley} -> {Wheat} (conf: 0.750, supp: 0.462, lift: 0.975, conv: 0.923)\n",
            "{Corn} -> {Rice} (conf: 0.857, supp: 0.462, lift: 1.013, conv: 1.077)\n",
            "{Wheat} -> {Corn} (conf: 0.600, supp: 0.462, lift: 1.114, conv: 1.154)\n",
            "{Corn} -> {Wheat} (conf: 0.857, supp: 0.462, lift: 1.114, conv: 1.615)\n",
            "{Rice} -> {Millet} (conf: 0.636, supp: 0.538, lift: 1.034, conv: 1.058)\n",
            "{Millet} -> {Rice} (conf: 0.875, supp: 0.538, lift: 1.034, conv: 1.231)\n",
            "{Wheat} -> {Millet} (conf: 0.600, supp: 0.462, lift: 0.975, conv: 0.962)\n",
            "{Millet} -> {Wheat} (conf: 0.750, supp: 0.462, lift: 0.975, conv: 0.923)\n",
            "{Wheat} -> {Rice} (conf: 1.000, supp: 0.769, lift: 1.182, conv: 153846153.846)\n",
            "{Rice} -> {Wheat} (conf: 0.909, supp: 0.769, lift: 1.182, conv: 2.538)\n",
            "{Millet, Rice} -> {Barley} (conf: 0.714, supp: 0.385, lift: 1.161, conv: 1.346)\n",
            "{Barley, Rice} -> {Millet} (conf: 0.714, supp: 0.385, lift: 1.161, conv: 1.346)\n",
            "{Barley, Millet} -> {Rice} (conf: 0.833, supp: 0.385, lift: 0.985, conv: 0.923)\n",
            "{Millet} -> {Barley, Rice} (conf: 0.625, supp: 0.385, lift: 1.161, conv: 1.231)\n",
            "{Barley} -> {Millet, Rice} (conf: 0.625, supp: 0.385, lift: 1.161, conv: 1.231)\n",
            "{Rice, Wheat} -> {Barley} (conf: 0.600, supp: 0.462, lift: 0.975, conv: 0.962)\n",
            "{Barley, Wheat} -> {Rice} (conf: 1.000, supp: 0.462, lift: 1.182, conv: 153846153.846)\n",
            "{Barley, Rice} -> {Wheat} (conf: 0.857, supp: 0.462, lift: 1.114, conv: 1.615)\n",
            "{Wheat} -> {Barley, Rice} (conf: 0.600, supp: 0.462, lift: 1.114, conv: 1.154)\n",
            "{Barley} -> {Rice, Wheat} (conf: 0.750, supp: 0.462, lift: 0.975, conv: 0.923)\n",
            "{Rice, Wheat} -> {Corn} (conf: 0.600, supp: 0.462, lift: 1.114, conv: 1.154)\n",
            "{Corn, Wheat} -> {Rice} (conf: 1.000, supp: 0.462, lift: 1.182, conv: 153846153.846)\n",
            "{Corn, Rice} -> {Wheat} (conf: 1.000, supp: 0.462, lift: 1.300, conv: 230769230.769)\n",
            "{Wheat} -> {Corn, Rice} (conf: 0.600, supp: 0.462, lift: 1.300, conv: 1.346)\n",
            "{Corn} -> {Rice, Wheat} (conf: 0.857, supp: 0.462, lift: 1.114, conv: 1.615)\n",
            "{Rice, Wheat} -> {Millet} (conf: 0.600, supp: 0.462, lift: 0.975, conv: 0.962)\n",
            "{Millet, Wheat} -> {Rice} (conf: 1.000, supp: 0.462, lift: 1.182, conv: 153846153.846)\n",
            "{Millet, Rice} -> {Wheat} (conf: 0.857, supp: 0.462, lift: 1.114, conv: 1.615)\n",
            "{Wheat} -> {Millet, Rice} (conf: 0.600, supp: 0.462, lift: 1.114, conv: 1.154)\n",
            "{Millet} -> {Rice, Wheat} (conf: 0.750, supp: 0.462, lift: 0.975, conv: 0.923)\n"
          ]
        }
      ]
    },
    {
      "cell_type": "code",
      "source": [
        "items"
      ],
      "metadata": {
        "id": "SrmW0gCuXMyD"
      },
      "execution_count": null,
      "outputs": []
    },
    {
      "cell_type": "code",
      "source": [
        "for rule in rules:\n",
        "  if rule.lift > 1 and rule.conviction >1:\n",
        "    print(rule)"
      ],
      "metadata": {
        "id": "SaYNQCyq1gA3"
      },
      "execution_count": null,
      "outputs": []
    },
    {
      "cell_type": "code",
      "source": [
        "results = list(rules)\n",
        "len(results)"
      ],
      "metadata": {
        "colab": {
          "base_uri": "https://localhost:8080/"
        },
        "id": "WhwAWQmhSzBB",
        "outputId": "b287b667-980d-4c55-9b97-15084937ab5a"
      },
      "execution_count": null,
      "outputs": [
        {
          "output_type": "execute_result",
          "data": {
            "text/plain": [
              "37"
            ]
          },
          "metadata": {},
          "execution_count": 42
        }
      ]
    },
    {
      "cell_type": "code",
      "source": [
        "results[0]"
      ],
      "metadata": {
        "id": "xr2sdTDyVHg2"
      },
      "execution_count": null,
      "outputs": []
    },
    {
      "cell_type": "code",
      "source": [
        "ResultsFrame = pd.DataFrame(columns=('Items','Antecedent','Consequent','Support','Confidence','Lift', 'Conviction'))\n",
        "\n",
        "Support =[]\n",
        "Confidence = []\n",
        "Lift = []\n",
        "Items = []\n",
        "Antecedent = []\n",
        "Consequent=[]\n",
        "Conviction = []\n",
        "\n",
        "for RelationRecord in results:\n",
        "\n",
        "        Support.append(RelationRecord.support)\n",
        "        Itemset=[RelationRecord.lhs,RelationRecord.rhs]\n",
        "        Items.append(Itemset)\n",
        "        Antecedent.append(RelationRecord.lhs)\n",
        "        Consequent.append(RelationRecord.rhs)\n",
        "        Confidence.append(RelationRecord.confidence)\n",
        "        Lift.append(RelationRecord.lift)\n",
        "        Conviction.append(RelationRecord.conviction)\n",
        "\n",
        "ResultsFrame['Items'] = list(map(set, Items))\n",
        "ResultsFrame['Antecedent'] = list(map(set, Antecedent))\n",
        "ResultsFrame['Consequent'] = list(map(set, Consequent))\n",
        "ResultsFrame['Support'] = Support\n",
        "ResultsFrame['Confidence'] = Confidence\n",
        "ResultsFrame['Lift']= Lift\n",
        "ResultsFrame['Conviction'] = Conviction\n"
      ],
      "metadata": {
        "id": "_S-4tRgQS62i"
      },
      "execution_count": null,
      "outputs": []
    },
    {
      "cell_type": "code",
      "source": [
        "ResultsFrame"
      ],
      "metadata": {
        "id": "vjBGSf_zYcSn"
      },
      "execution_count": null,
      "outputs": []
    },
    {
      "cell_type": "code",
      "source": [
        "ResultsFrame.sort_values(by ='Lift', ascending = False, inplace = True)"
      ],
      "metadata": {
        "id": "FI0PCmpDYuQY"
      },
      "execution_count": null,
      "outputs": []
    },
    {
      "cell_type": "code",
      "source": [
        "ResultsFrame"
      ],
      "metadata": {
        "id": "ZDYnUTW6YwXW"
      },
      "execution_count": null,
      "outputs": []
    }
  ]
}