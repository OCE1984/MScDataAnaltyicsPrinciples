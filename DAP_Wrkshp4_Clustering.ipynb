{
  "nbformat": 4,
  "nbformat_minor": 0,
  "metadata": {
    "colab": {
      "provenance": []
    },
    "kernelspec": {
      "name": "python3",
      "display_name": "Python 3"
    },
    "language_info": {
      "name": "python"
    }
  },
  "cells": [
    {
      "cell_type": "code",
      "source": [
        "from sklearn.cluster import KMeans\n",
        "import numpy as np\n",
        "import pandas as pd\n",
        "import matplotlib.pyplot as plt"
      ],
      "metadata": {
        "id": "s-qnbcPa79vH"
      },
      "execution_count": null,
      "outputs": []
    },
    {
      "cell_type": "code",
      "source": [
        "Height = [71, 68, 72, 67, 72, 62, 70, 69, 72, 63, 69, 61]\n",
        "np_height = np.array(Height)"
      ],
      "metadata": {
        "id": "_20aUPSV6St3"
      },
      "execution_count": null,
      "outputs": []
    },
    {
      "cell_type": "code",
      "source": [
        "Weight = [165, 165, 180, 113, 170, 101, 150, 172, 185, 149, 132, 115]\n",
        "np_weight = np.array(Weight)"
      ],
      "metadata": {
        "id": "HZWFd1I76tBQ"
      },
      "execution_count": null,
      "outputs": []
    },
    {
      "cell_type": "code",
      "source": [
        "data= np.vstack((np_height, np_weight)).T"
      ],
      "metadata": {
        "id": "0r_Lpqnu69Zq"
      },
      "execution_count": null,
      "outputs": []
    },
    {
      "cell_type": "code",
      "source": [
        "data"
      ],
      "metadata": {
        "id": "FvhxBFFl7q7o"
      },
      "execution_count": null,
      "outputs": []
    },
    {
      "cell_type": "code",
      "source": [
        "plt.scatter(np_height, np_weight)\n",
        "plt.show()"
      ],
      "metadata": {
        "id": "qL9W7ObO8sfc"
      },
      "execution_count": null,
      "outputs": []
    },
    {
      "cell_type": "code",
      "source": [
        "kmeans = KMeans(n_clusters=3)\n",
        "kmeans.fit(data)"
      ],
      "metadata": {
        "id": "VKP1ZZNM8x9m"
      },
      "execution_count": null,
      "outputs": []
    },
    {
      "cell_type": "code",
      "source": [
        "plt.scatter(np_height, np_weight, c=kmeans.labels_)\n",
        "plt.show()"
      ],
      "metadata": {
        "id": "2snlSD3h9dVd"
      },
      "execution_count": null,
      "outputs": []
    }
  ]
}