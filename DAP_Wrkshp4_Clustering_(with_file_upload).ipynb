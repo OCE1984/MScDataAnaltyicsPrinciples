{
  "nbformat": 4,
  "nbformat_minor": 0,
  "metadata": {
    "colab": {
      "provenance": []
    },
    "kernelspec": {
      "name": "python3",
      "display_name": "Python 3"
    },
    "language_info": {
      "name": "python"
    }
  },
  "cells": [
    {
      "cell_type": "code",
      "execution_count": null,
      "metadata": {
        "id": "xrPkYZoQVuM0"
      },
      "outputs": [],
      "source": [
        "from sklearn.cluster import KMeans\n",
        "import numpy as np\n",
        "import pandas as pd\n",
        "import matplotlib.pyplot as plt"
      ]
    },
    {
      "cell_type": "code",
      "source": [
        "mydata = pd.read_csv('T-shirts.csv')"
      ],
      "metadata": {
        "id": "Grx9pMmsWF1b"
      },
      "execution_count": null,
      "outputs": []
    },
    {
      "cell_type": "code",
      "source": [
        "mydata"
      ],
      "metadata": {
        "id": "RiSP_TGHWOS_"
      },
      "execution_count": null,
      "outputs": []
    },
    {
      "cell_type": "code",
      "source": [
        "kmeans = KMeans(n_clusters=3)\n",
        "kmeans.fit(mydata)"
      ],
      "metadata": {
        "id": "rx9qcCjUWXbf"
      },
      "execution_count": null,
      "outputs": []
    },
    {
      "cell_type": "code",
      "source": [
        "plt.scatter(mydata['Height'], mydata['Weight'], c=kmeans.labels_)\n",
        "plt.show()"
      ],
      "metadata": {
        "id": "J7IwKn3_X3Uj"
      },
      "execution_count": null,
      "outputs": []
    }
  ]
}