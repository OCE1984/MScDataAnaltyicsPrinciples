{
  "nbformat": 4,
  "nbformat_minor": 0,
  "metadata": {
    "colab": {
      "provenance": [],
      "authorship_tag": "ABX9TyN5sAQKCB6ld3Jx3Hh7UATD",
      "include_colab_link": true
    },
    "kernelspec": {
      "name": "python3",
      "display_name": "Python 3"
    },
    "language_info": {
      "name": "python"
    }
  },
  "cells": [
    {
      "cell_type": "markdown",
      "metadata": {
        "id": "view-in-github",
        "colab_type": "text"
      },
      "source": [
        "<a href=\"https://colab.research.google.com/github/OCE1984/MScDataAnaltyicsPrinciples/blob/main/DataClean%26EDA.ipynb\" target=\"_parent\"><img src=\"https://colab.research.google.com/assets/colab-badge.svg\" alt=\"Open In Colab\"/></a>"
      ]
    },
    {
      "cell_type": "markdown",
      "source": [
        "\n",
        "# Data Analysis"
      ],
      "metadata": {
        "id": "ex04qozj8Pec"
      }
    },
    {
      "cell_type": "markdown",
      "source": [
        "## Importing Tools"
      ],
      "metadata": {
        "id": "x4nZ09QM8XQR"
      }
    },
    {
      "cell_type": "markdown",
      "source": [
        "To analyse the data, the analyst will require the use of pre-written algorithms. To ensure that the algorithms and their associated libraries are easy to find, it is standard to co-locate all required algorithms in one box at the beginning of the coding script."
      ],
      "metadata": {
        "id": "W9bSeVMSLtaF"
      }
    },
    {
      "cell_type": "code",
      "execution_count": 4,
      "metadata": {
        "id": "rO5mnFDa8KbU"
      },
      "outputs": [],
      "source": [
        "import pandas as pd\n",
        "import matplotlib.pyplot as plt\n",
        "import seaborn as sns\n",
        "import numpy as np\n",
        "import math\n",
        "import matplotlib.ticker as ticker\n",
        "import time\n",
        "import xgboost as xgb\n",
        "import os\n",
        "\n",
        "\n",
        "from sklearn.ensemble import RandomForestClassifier\n",
        "from sklearn.model_selection import (train_test_split,\n",
        "                                     cross_val_score,\n",
        "                                     GridSearchCV)\n",
        "from sklearn.preprocessing import LabelEncoder, StandardScaler\n",
        "from sklearn.metrics import (accuracy_score, precision_score, recall_score,\n",
        "f1_score, confusion_matrix, ConfusionMatrixDisplay, classification_report,\n",
        "make_scorer, silhouette_score)\n",
        "from sklearn.inspection import permutation_importance\n",
        "from sklearn.linear_model import LinearRegression\n",
        "from sklearn.metrics import (r2_score, mean_absolute_error, mean_squared_error,\n",
        "silhouette_samples, roc_curve, auc, roc_auc_score)\n",
        "from sklearn.preprocessing import OneHotEncoder, StandardScaler\n",
        "from sklearn.cluster import KMeans\n",
        "from yellowbrick.cluster import SilhouetteVisualizer"
      ]
    },
    {
      "cell_type": "code",
      "source": [
        "import warnings\n",
        "warnings.filterwarnings('ignore')"
      ],
      "metadata": {
        "id": "SltBgHylgMmu"
      },
      "execution_count": null,
      "outputs": []
    },
    {
      "cell_type": "markdown",
      "source": [
        "## Loading the Dataset"
      ],
      "metadata": {
        "id": "cYrOPCPFqHdX"
      }
    },
    {
      "cell_type": "markdown",
      "source": [
        "For this project, an open source dataset from kaggle will be used. The dataset can be obtained from the following location:\n",
        "\n",
        "https://www.kaggle.com/datasets/mysarahmadbhat/airline-passenger-satisfaction/data\n",
        "\n",
        "The dataset is a collection of customer satisfaction surveys for people who have travelled as a passenger on a commercial airline.\n",
        "\n",
        "As the coding medium used is 'Google Colab', the dataset has been storedd on Github and will be pulled from that location for the analysis."
      ],
      "metadata": {
        "id": "S7EJV8X_FKT4"
      }
    },
    {
      "cell_type": "code",
      "source": [
        "file_path = (\n",
        "    \"https://raw.githubusercontent.com/\"\n",
        "    \"OCE1984/MScDataAnaltyicsPrinciples/\"\n",
        "    \"main/airline_passenger_satisfaction.csv\"\n",
        ")\n",
        "df_original = pd.read_csv(file_path)"
      ],
      "metadata": {
        "id": "0HHGTUxBqBLU"
      },
      "execution_count": null,
      "outputs": []
    },
    {
      "cell_type": "markdown",
      "source": [
        "## Exploratory Data Analysis (EDA)"
      ],
      "metadata": {
        "id": "KnPHXpJjv9HD"
      }
    },
    {
      "cell_type": "markdown",
      "source": [
        "Once the dataset is loaded into the coding environment, the dataset must be analysed to determine the size, shape and content of the dataset. This step is known as Exploratory Data Analysis (EDA) and helps the analyst to understand the dataset before any analysis is carried out.\n",
        "\n",
        "This will not only direct the analyst in the most suitable types of analysis to use, but also determine whether or not the dataset is configured correctly for data analysis."
      ],
      "metadata": {
        "id": "i9g6dYtWF_lu"
      }
    },
    {
      "cell_type": "code",
      "source": [
        "print(\"\\nDataset Info:\")\n",
        "df_original.info()"
      ],
      "metadata": {
        "colab": {
          "base_uri": "https://localhost:8080/"
        },
        "id": "8m9QifhBwB8s",
        "outputId": "3e512241-fb8b-4408-9ad3-c5fed0eba049"
      },
      "execution_count": null,
      "outputs": [
        {
          "output_type": "stream",
          "name": "stdout",
          "text": [
            "\n",
            "Dataset Info:\n",
            "<class 'pandas.core.frame.DataFrame'>\n",
            "RangeIndex: 129880 entries, 0 to 129879\n",
            "Data columns (total 24 columns):\n",
            " #   Column                                  Non-Null Count   Dtype  \n",
            "---  ------                                  --------------   -----  \n",
            " 0   ID                                      129880 non-null  int64  \n",
            " 1   Gender                                  129880 non-null  object \n",
            " 2   Age                                     129880 non-null  int64  \n",
            " 3   Customer Type                           129880 non-null  object \n",
            " 4   Type of Travel                          129880 non-null  object \n",
            " 5   Class                                   129880 non-null  object \n",
            " 6   Flight Distance                         129880 non-null  int64  \n",
            " 7   Departure Delay                         129880 non-null  int64  \n",
            " 8   Arrival Delay                           129487 non-null  float64\n",
            " 9   Departure and Arrival Time Convenience  129880 non-null  int64  \n",
            " 10  Ease of Online Booking                  129880 non-null  int64  \n",
            " 11  Check-in Service                        129880 non-null  int64  \n",
            " 12  Online Boarding                         129880 non-null  int64  \n",
            " 13  Gate Location                           129880 non-null  int64  \n",
            " 14  On-board Service                        129880 non-null  int64  \n",
            " 15  Seat Comfort                            129880 non-null  int64  \n",
            " 16  Leg Room Service                        129880 non-null  int64  \n",
            " 17  Cleanliness                             129880 non-null  int64  \n",
            " 18  Food and Drink                          129880 non-null  int64  \n",
            " 19  In-flight Service                       129880 non-null  int64  \n",
            " 20  In-flight Wifi Service                  129880 non-null  int64  \n",
            " 21  In-flight Entertainment                 129880 non-null  int64  \n",
            " 22  Baggage Handling                        129880 non-null  int64  \n",
            " 23  Satisfaction                            129880 non-null  object \n",
            "dtypes: float64(1), int64(18), object(5)\n",
            "memory usage: 23.8+ MB\n"
          ]
        }
      ]
    },
    {
      "cell_type": "markdown",
      "source": [
        "By looking at the 'info' of the dataset, it's possible to see the structure and the content of the dataset.\n",
        "\n",
        "First, the number of records contained within the dataset is 129,880 entries. It is recommended that a dataset has a minimum of 500 entries for machine learning algorithms to be effective, so the dataset can be used for machine learning purposes. This is to ensure that there is enough data to split into training and test subsets of the data and still provide enough different combinations of possible data configurations to identify trends.\n",
        "\n",
        "Next, it's possible to see that there are 24 columns in total, as well as the name of each of the columns within the dataset. This is extremely useful as it allows the analyst to transform the data within any given column contained in the dataset.\n",
        "\n",
        "Then, it can also be seen how many 'non-null' values there are in each column. If the value is less than the number of entries in the dataset, then that column is gong to have missing values. This can be verified by running a 'missing values' code to clearly show where any missing entries are for any given column."
      ],
      "metadata": {
        "id": "VLIPKtkiIbw2"
      }
    },
    {
      "cell_type": "code",
      "source": [
        "print(\"\\nMissing Values:\")\n",
        "print(df_original.isnull().sum())"
      ],
      "metadata": {
        "colab": {
          "base_uri": "https://localhost:8080/"
        },
        "id": "KkrEV2uWxvKb",
        "outputId": "f2a2ed73-f22e-499a-c84e-292636b9954c"
      },
      "execution_count": null,
      "outputs": [
        {
          "output_type": "stream",
          "name": "stdout",
          "text": [
            "\n",
            "Missing Values:\n",
            "ID                                          0\n",
            "Gender                                      0\n",
            "Age                                         0\n",
            "Customer Type                               0\n",
            "Type of Travel                              0\n",
            "Class                                       0\n",
            "Flight Distance                             0\n",
            "Departure Delay                             0\n",
            "Arrival Delay                             393\n",
            "Departure and Arrival Time Convenience      0\n",
            "Ease of Online Booking                      0\n",
            "Check-in Service                            0\n",
            "Online Boarding                             0\n",
            "Gate Location                               0\n",
            "On-board Service                            0\n",
            "Seat Comfort                                0\n",
            "Leg Room Service                            0\n",
            "Cleanliness                                 0\n",
            "Food and Drink                              0\n",
            "In-flight Service                           0\n",
            "In-flight Wifi Service                      0\n",
            "In-flight Entertainment                     0\n",
            "Baggage Handling                            0\n",
            "Satisfaction                                0\n",
            "dtype: int64\n"
          ]
        }
      ]
    },
    {
      "cell_type": "markdown",
      "source": [
        "The 'missing values' code has confirmed that there are 393 missing values from the 'Arrival Delay' column. Before any analysis can be carried out, the null-values will have to be addressed to ensure that they don't influence the accuracy of any modelling carried out. This will be addressed in the next section 'Data Cleaning'.\n",
        "\n",
        "Finally, the data type (DType), is visible to show what kind of data each column has. The 'Arrival Delay' is a float format, so this will have to be converted to an integer format in the 'Data Cleaning' section."
      ],
      "metadata": {
        "id": "gowwpPJpQZyj"
      }
    },
    {
      "cell_type": "markdown",
      "source": [
        "Now that the dataset is better understood, it is good practice to create a 'Data Dictionary'. The purpose of the dictionary to is communicate to anyone else who needs to interact with the dataset. It explains all the columns and provides the context behind the variables within the columns."
      ],
      "metadata": {
        "id": "v1416NtrD86Y"
      }
    },
    {
      "cell_type": "code",
      "source": [
        "# Generate a Data Dictionary to explain the dataset to others\n",
        "\n",
        "column_descriptions = {\n",
        "    \"ID\": \"Unique identifier for each passenger\",\n",
        "    \"Gender\": \"Passenger's gender (Male/Female)\",\n",
        "    \"Age\": \"Passenger's age in years\",\n",
        "    \"Customer Type\": \"Type of customer (Loyal or Disloyal customer)\",\n",
        "    \"Type of Travel\": \"Purpose of flight (Personal or Business)\",\n",
        "    \"Class\": \"Ticket class (Economy, Premium Economy, Business)\",\n",
        "    \"Flight Distance\": \"Distance of the flight in miles\",\n",
        "    \"Departure Delay\": \"Departure delay duration (minutes)\",\n",
        "    \"Arrival Delay\": \"Arrival delay duration (minutes)\",\n",
        "    \"Departure and Arrival Time Convenience\": (\n",
        "        \"Rating for convenience of departure/arrival times\"\n",
        "    ),\n",
        "    \"Ease of Online Booking\": (\n",
        "        \"Rating of the ease of online booking, from 1 (lowest) to 5 (highest)\"\n",
        "        \" - 0 means 'not applicable'\"\n",
        "    ),\n",
        "    \"Check-in Service\": (\n",
        "        \"Rating of check-in service quality, from 1 (lowest) to 5 (highest)\"\n",
        "        \" - 0 means 'not applicable'\"\n",
        "    ),\n",
        "    \"Online Boarding\": (\n",
        "        \"Rating of online boarding experience, from 1 (lowest) to 5 (highest)\"\n",
        "        \" - 0 means 'not applicable'\"\n",
        "    ),\n",
        "    \"Gate Location\": (\n",
        "        \"Rating for convenience/location of gate, from 1 (lowest) to 5 (highest)\"\n",
        "        \" - 0 means 'not applicable'\"\n",
        "    ),\n",
        "    \"On-board Service\": (\n",
        "        \"Rating for onboard customer service, from 1 (lowest) to 5 (highest)\"\n",
        "        \" - 0 means 'not applicable'\"\n",
        "    ),\n",
        "    \"Seat Comfort\": (\n",
        "        \"Rating for comfort of the seats, from 1 (lowest) to 5 (highest)\"\n",
        "        \" - 0 means 'not applicable'\"\n",
        "    ),\n",
        "    \"Leg Room Service\": (\n",
        "        \"Rating for legroom availability, from 1 (lowest) to 5 (highest)\"\n",
        "        \" - 0 means 'not applicable'\"\n",
        "    ),\n",
        "    \"Cleanliness\": (\n",
        "        \"Rating for cleanliness of the aircraft, from 1 (lowest) to 5 (highest)\"\n",
        "        \" - 0 means 'not applicable'\"\n",
        "    ),\n",
        "    \"Food and Drink\": (\n",
        "        \"Rating for onboard food and drink quality, from 1 (lowest) to 5 (highest)\"\n",
        "        \" - 0 means 'not applicable'\"\n",
        "    ),\n",
        "    \"In-flight Service\": (\n",
        "        \"Rating for overall inflight service, from 1 (lowest) to 5 (highest)\"\n",
        "        \" - 0 means 'not applicable'\"\n",
        "    ),\n",
        "    \"In-flight Wifi Service\": (\n",
        "        \"Rating for onboard wifi service quality, from 1 (lowest) to 5 (highest)\"\n",
        "        \" - 0 means 'not applicable'\"\n",
        "    ),\n",
        "    \"In-flight Entertainment\": (\n",
        "        \"Rating for inflight entertainment options, from 1 (lowest) to 5 (highest)\"\n",
        "        \" - 0 means 'not applicable'\"\n",
        "    ),\n",
        "    \"Baggage Handling\": (\n",
        "        \"Rating for baggage handling experience, from 1 (lowest) to 5 (highest)\"\n",
        "        \" - 0 means 'not applicable'\"\n",
        "    ),\n",
        "    \"Satisfaction\": (\n",
        "        \"Overall passenger satisfaction (Satisfied/Neutral or Dissatisfied)\"\n",
        "    ),\n",
        "}\n",
        "\n",
        "data_dict = pd.DataFrame({\n",
        "    \"Column Name\": df_original.columns,\n",
        "    \"Data Type\": df_original.dtypes.values,\n",
        "    \"Description\": [\n",
        "    column_descriptions.get(col, \"No description provided\")\n",
        "    for col in df_original.columns\n",
        "]})\n",
        "\n",
        "data_dict.to_csv(\"completed_data_dictionary.csv\", index=False)"
      ],
      "metadata": {
        "id": "a1paSPTdNsDU"
      },
      "execution_count": null,
      "outputs": []
    },
    {
      "cell_type": "code",
      "source": [
        "print(\"\\nSummary Statistics:\")\n",
        "df_original.describe()"
      ],
      "metadata": {
        "colab": {
          "base_uri": "https://localhost:8080/",
          "height": 402
        },
        "id": "Yz3RIat8xdEF",
        "outputId": "1dc40827-4f04-4fde-a06f-0a76d3f882a7"
      },
      "execution_count": null,
      "outputs": [
        {
          "output_type": "stream",
          "name": "stdout",
          "text": [
            "\n",
            "Summary Statistics:\n"
          ]
        },
        {
          "output_type": "execute_result",
          "data": {
            "text/plain": [
              "                  ID            Age  Flight Distance  Departure Delay  \\\n",
              "count  129880.000000  129880.000000    129880.000000    129880.000000   \n",
              "mean    64940.500000      39.427957      1190.316392        14.713713   \n",
              "std     37493.270818      15.119360       997.452477        38.071126   \n",
              "min         1.000000       7.000000        31.000000         0.000000   \n",
              "25%     32470.750000      27.000000       414.000000         0.000000   \n",
              "50%     64940.500000      40.000000       844.000000         0.000000   \n",
              "75%     97410.250000      51.000000      1744.000000        12.000000   \n",
              "max    129880.000000      85.000000      4983.000000      1592.000000   \n",
              "\n",
              "       Arrival Delay  Departure and Arrival Time Convenience  \\\n",
              "count  129487.000000                           129880.000000   \n",
              "mean       15.091129                                3.057599   \n",
              "std        38.465650                                1.526741   \n",
              "min         0.000000                                0.000000   \n",
              "25%         0.000000                                2.000000   \n",
              "50%         0.000000                                3.000000   \n",
              "75%        13.000000                                4.000000   \n",
              "max      1584.000000                                5.000000   \n",
              "\n",
              "       Ease of Online Booking  Check-in Service  Online Boarding  \\\n",
              "count           129880.000000     129880.000000    129880.000000   \n",
              "mean                 2.756876          3.306267         3.252633   \n",
              "std                  1.401740          1.266185         1.350719   \n",
              "min                  0.000000          0.000000         0.000000   \n",
              "25%                  2.000000          3.000000         2.000000   \n",
              "50%                  3.000000          3.000000         3.000000   \n",
              "75%                  4.000000          4.000000         4.000000   \n",
              "max                  5.000000          5.000000         5.000000   \n",
              "\n",
              "       Gate Location  On-board Service   Seat Comfort  Leg Room Service  \\\n",
              "count  129880.000000     129880.000000  129880.000000     129880.000000   \n",
              "mean        2.976925          3.383023       3.441361          3.350878   \n",
              "std         1.278520          1.287099       1.319289          1.316252   \n",
              "min         0.000000          0.000000       0.000000          0.000000   \n",
              "25%         2.000000          2.000000       2.000000          2.000000   \n",
              "50%         3.000000          4.000000       4.000000          4.000000   \n",
              "75%         4.000000          4.000000       5.000000          4.000000   \n",
              "max         5.000000          5.000000       5.000000          5.000000   \n",
              "\n",
              "         Cleanliness  Food and Drink  In-flight Service  \\\n",
              "count  129880.000000   129880.000000      129880.000000   \n",
              "mean        3.286326        3.204774           3.642193   \n",
              "std         1.313682        1.329933           1.176669   \n",
              "min         0.000000        0.000000           0.000000   \n",
              "25%         2.000000        2.000000           3.000000   \n",
              "50%         3.000000        3.000000           4.000000   \n",
              "75%         4.000000        4.000000           5.000000   \n",
              "max         5.000000        5.000000           5.000000   \n",
              "\n",
              "       In-flight Wifi Service  In-flight Entertainment  Baggage Handling  \n",
              "count           129880.000000            129880.000000     129880.000000  \n",
              "mean                 2.728696                 3.358077          3.632114  \n",
              "std                  1.329340                 1.334049          1.180025  \n",
              "min                  0.000000                 0.000000          1.000000  \n",
              "25%                  2.000000                 2.000000          3.000000  \n",
              "50%                  3.000000                 4.000000          4.000000  \n",
              "75%                  4.000000                 4.000000          5.000000  \n",
              "max                  5.000000                 5.000000          5.000000  "
            ],
            "text/html": [
              "\n",
              "  <div id=\"df-269398ab-498b-4da8-998d-8f1f8bed0ee8\" class=\"colab-df-container\">\n",
              "    <div>\n",
              "<style scoped>\n",
              "    .dataframe tbody tr th:only-of-type {\n",
              "        vertical-align: middle;\n",
              "    }\n",
              "\n",
              "    .dataframe tbody tr th {\n",
              "        vertical-align: top;\n",
              "    }\n",
              "\n",
              "    .dataframe thead th {\n",
              "        text-align: right;\n",
              "    }\n",
              "</style>\n",
              "<table border=\"1\" class=\"dataframe\">\n",
              "  <thead>\n",
              "    <tr style=\"text-align: right;\">\n",
              "      <th></th>\n",
              "      <th>ID</th>\n",
              "      <th>Age</th>\n",
              "      <th>Flight Distance</th>\n",
              "      <th>Departure Delay</th>\n",
              "      <th>Arrival Delay</th>\n",
              "      <th>Departure and Arrival Time Convenience</th>\n",
              "      <th>Ease of Online Booking</th>\n",
              "      <th>Check-in Service</th>\n",
              "      <th>Online Boarding</th>\n",
              "      <th>Gate Location</th>\n",
              "      <th>On-board Service</th>\n",
              "      <th>Seat Comfort</th>\n",
              "      <th>Leg Room Service</th>\n",
              "      <th>Cleanliness</th>\n",
              "      <th>Food and Drink</th>\n",
              "      <th>In-flight Service</th>\n",
              "      <th>In-flight Wifi Service</th>\n",
              "      <th>In-flight Entertainment</th>\n",
              "      <th>Baggage Handling</th>\n",
              "    </tr>\n",
              "  </thead>\n",
              "  <tbody>\n",
              "    <tr>\n",
              "      <th>count</th>\n",
              "      <td>129880.000000</td>\n",
              "      <td>129880.000000</td>\n",
              "      <td>129880.000000</td>\n",
              "      <td>129880.000000</td>\n",
              "      <td>129487.000000</td>\n",
              "      <td>129880.000000</td>\n",
              "      <td>129880.000000</td>\n",
              "      <td>129880.000000</td>\n",
              "      <td>129880.000000</td>\n",
              "      <td>129880.000000</td>\n",
              "      <td>129880.000000</td>\n",
              "      <td>129880.000000</td>\n",
              "      <td>129880.000000</td>\n",
              "      <td>129880.000000</td>\n",
              "      <td>129880.000000</td>\n",
              "      <td>129880.000000</td>\n",
              "      <td>129880.000000</td>\n",
              "      <td>129880.000000</td>\n",
              "      <td>129880.000000</td>\n",
              "    </tr>\n",
              "    <tr>\n",
              "      <th>mean</th>\n",
              "      <td>64940.500000</td>\n",
              "      <td>39.427957</td>\n",
              "      <td>1190.316392</td>\n",
              "      <td>14.713713</td>\n",
              "      <td>15.091129</td>\n",
              "      <td>3.057599</td>\n",
              "      <td>2.756876</td>\n",
              "      <td>3.306267</td>\n",
              "      <td>3.252633</td>\n",
              "      <td>2.976925</td>\n",
              "      <td>3.383023</td>\n",
              "      <td>3.441361</td>\n",
              "      <td>3.350878</td>\n",
              "      <td>3.286326</td>\n",
              "      <td>3.204774</td>\n",
              "      <td>3.642193</td>\n",
              "      <td>2.728696</td>\n",
              "      <td>3.358077</td>\n",
              "      <td>3.632114</td>\n",
              "    </tr>\n",
              "    <tr>\n",
              "      <th>std</th>\n",
              "      <td>37493.270818</td>\n",
              "      <td>15.119360</td>\n",
              "      <td>997.452477</td>\n",
              "      <td>38.071126</td>\n",
              "      <td>38.465650</td>\n",
              "      <td>1.526741</td>\n",
              "      <td>1.401740</td>\n",
              "      <td>1.266185</td>\n",
              "      <td>1.350719</td>\n",
              "      <td>1.278520</td>\n",
              "      <td>1.287099</td>\n",
              "      <td>1.319289</td>\n",
              "      <td>1.316252</td>\n",
              "      <td>1.313682</td>\n",
              "      <td>1.329933</td>\n",
              "      <td>1.176669</td>\n",
              "      <td>1.329340</td>\n",
              "      <td>1.334049</td>\n",
              "      <td>1.180025</td>\n",
              "    </tr>\n",
              "    <tr>\n",
              "      <th>min</th>\n",
              "      <td>1.000000</td>\n",
              "      <td>7.000000</td>\n",
              "      <td>31.000000</td>\n",
              "      <td>0.000000</td>\n",
              "      <td>0.000000</td>\n",
              "      <td>0.000000</td>\n",
              "      <td>0.000000</td>\n",
              "      <td>0.000000</td>\n",
              "      <td>0.000000</td>\n",
              "      <td>0.000000</td>\n",
              "      <td>0.000000</td>\n",
              "      <td>0.000000</td>\n",
              "      <td>0.000000</td>\n",
              "      <td>0.000000</td>\n",
              "      <td>0.000000</td>\n",
              "      <td>0.000000</td>\n",
              "      <td>0.000000</td>\n",
              "      <td>0.000000</td>\n",
              "      <td>1.000000</td>\n",
              "    </tr>\n",
              "    <tr>\n",
              "      <th>25%</th>\n",
              "      <td>32470.750000</td>\n",
              "      <td>27.000000</td>\n",
              "      <td>414.000000</td>\n",
              "      <td>0.000000</td>\n",
              "      <td>0.000000</td>\n",
              "      <td>2.000000</td>\n",
              "      <td>2.000000</td>\n",
              "      <td>3.000000</td>\n",
              "      <td>2.000000</td>\n",
              "      <td>2.000000</td>\n",
              "      <td>2.000000</td>\n",
              "      <td>2.000000</td>\n",
              "      <td>2.000000</td>\n",
              "      <td>2.000000</td>\n",
              "      <td>2.000000</td>\n",
              "      <td>3.000000</td>\n",
              "      <td>2.000000</td>\n",
              "      <td>2.000000</td>\n",
              "      <td>3.000000</td>\n",
              "    </tr>\n",
              "    <tr>\n",
              "      <th>50%</th>\n",
              "      <td>64940.500000</td>\n",
              "      <td>40.000000</td>\n",
              "      <td>844.000000</td>\n",
              "      <td>0.000000</td>\n",
              "      <td>0.000000</td>\n",
              "      <td>3.000000</td>\n",
              "      <td>3.000000</td>\n",
              "      <td>3.000000</td>\n",
              "      <td>3.000000</td>\n",
              "      <td>3.000000</td>\n",
              "      <td>4.000000</td>\n",
              "      <td>4.000000</td>\n",
              "      <td>4.000000</td>\n",
              "      <td>3.000000</td>\n",
              "      <td>3.000000</td>\n",
              "      <td>4.000000</td>\n",
              "      <td>3.000000</td>\n",
              "      <td>4.000000</td>\n",
              "      <td>4.000000</td>\n",
              "    </tr>\n",
              "    <tr>\n",
              "      <th>75%</th>\n",
              "      <td>97410.250000</td>\n",
              "      <td>51.000000</td>\n",
              "      <td>1744.000000</td>\n",
              "      <td>12.000000</td>\n",
              "      <td>13.000000</td>\n",
              "      <td>4.000000</td>\n",
              "      <td>4.000000</td>\n",
              "      <td>4.000000</td>\n",
              "      <td>4.000000</td>\n",
              "      <td>4.000000</td>\n",
              "      <td>4.000000</td>\n",
              "      <td>5.000000</td>\n",
              "      <td>4.000000</td>\n",
              "      <td>4.000000</td>\n",
              "      <td>4.000000</td>\n",
              "      <td>5.000000</td>\n",
              "      <td>4.000000</td>\n",
              "      <td>4.000000</td>\n",
              "      <td>5.000000</td>\n",
              "    </tr>\n",
              "    <tr>\n",
              "      <th>max</th>\n",
              "      <td>129880.000000</td>\n",
              "      <td>85.000000</td>\n",
              "      <td>4983.000000</td>\n",
              "      <td>1592.000000</td>\n",
              "      <td>1584.000000</td>\n",
              "      <td>5.000000</td>\n",
              "      <td>5.000000</td>\n",
              "      <td>5.000000</td>\n",
              "      <td>5.000000</td>\n",
              "      <td>5.000000</td>\n",
              "      <td>5.000000</td>\n",
              "      <td>5.000000</td>\n",
              "      <td>5.000000</td>\n",
              "      <td>5.000000</td>\n",
              "      <td>5.000000</td>\n",
              "      <td>5.000000</td>\n",
              "      <td>5.000000</td>\n",
              "      <td>5.000000</td>\n",
              "      <td>5.000000</td>\n",
              "    </tr>\n",
              "  </tbody>\n",
              "</table>\n",
              "</div>\n",
              "    <div class=\"colab-df-buttons\">\n",
              "\n",
              "  <div class=\"colab-df-container\">\n",
              "    <button class=\"colab-df-convert\" onclick=\"convertToInteractive('df-269398ab-498b-4da8-998d-8f1f8bed0ee8')\"\n",
              "            title=\"Convert this dataframe to an interactive table.\"\n",
              "            style=\"display:none;\">\n",
              "\n",
              "  <svg xmlns=\"http://www.w3.org/2000/svg\" height=\"24px\" viewBox=\"0 -960 960 960\">\n",
              "    <path d=\"M120-120v-720h720v720H120Zm60-500h600v-160H180v160Zm220 220h160v-160H400v160Zm0 220h160v-160H400v160ZM180-400h160v-160H180v160Zm440 0h160v-160H620v160ZM180-180h160v-160H180v160Zm440 0h160v-160H620v160Z\"/>\n",
              "  </svg>\n",
              "    </button>\n",
              "\n",
              "  <style>\n",
              "    .colab-df-container {\n",
              "      display:flex;\n",
              "      gap: 12px;\n",
              "    }\n",
              "\n",
              "    .colab-df-convert {\n",
              "      background-color: #E8F0FE;\n",
              "      border: none;\n",
              "      border-radius: 50%;\n",
              "      cursor: pointer;\n",
              "      display: none;\n",
              "      fill: #1967D2;\n",
              "      height: 32px;\n",
              "      padding: 0 0 0 0;\n",
              "      width: 32px;\n",
              "    }\n",
              "\n",
              "    .colab-df-convert:hover {\n",
              "      background-color: #E2EBFA;\n",
              "      box-shadow: 0px 1px 2px rgba(60, 64, 67, 0.3), 0px 1px 3px 1px rgba(60, 64, 67, 0.15);\n",
              "      fill: #174EA6;\n",
              "    }\n",
              "\n",
              "    .colab-df-buttons div {\n",
              "      margin-bottom: 4px;\n",
              "    }\n",
              "\n",
              "    [theme=dark] .colab-df-convert {\n",
              "      background-color: #3B4455;\n",
              "      fill: #D2E3FC;\n",
              "    }\n",
              "\n",
              "    [theme=dark] .colab-df-convert:hover {\n",
              "      background-color: #434B5C;\n",
              "      box-shadow: 0px 1px 3px 1px rgba(0, 0, 0, 0.15);\n",
              "      filter: drop-shadow(0px 1px 2px rgba(0, 0, 0, 0.3));\n",
              "      fill: #FFFFFF;\n",
              "    }\n",
              "  </style>\n",
              "\n",
              "    <script>\n",
              "      const buttonEl =\n",
              "        document.querySelector('#df-269398ab-498b-4da8-998d-8f1f8bed0ee8 button.colab-df-convert');\n",
              "      buttonEl.style.display =\n",
              "        google.colab.kernel.accessAllowed ? 'block' : 'none';\n",
              "\n",
              "      async function convertToInteractive(key) {\n",
              "        const element = document.querySelector('#df-269398ab-498b-4da8-998d-8f1f8bed0ee8');\n",
              "        const dataTable =\n",
              "          await google.colab.kernel.invokeFunction('convertToInteractive',\n",
              "                                                    [key], {});\n",
              "        if (!dataTable) return;\n",
              "\n",
              "        const docLinkHtml = 'Like what you see? Visit the ' +\n",
              "          '<a target=\"_blank\" href=https://colab.research.google.com/notebooks/data_table.ipynb>data table notebook</a>'\n",
              "          + ' to learn more about interactive tables.';\n",
              "        element.innerHTML = '';\n",
              "        dataTable['output_type'] = 'display_data';\n",
              "        await google.colab.output.renderOutput(dataTable, element);\n",
              "        const docLink = document.createElement('div');\n",
              "        docLink.innerHTML = docLinkHtml;\n",
              "        element.appendChild(docLink);\n",
              "      }\n",
              "    </script>\n",
              "  </div>\n",
              "\n",
              "\n",
              "<div id=\"df-4b1ff240-41cb-40e1-91e5-7b8d4ac2daf6\">\n",
              "  <button class=\"colab-df-quickchart\" onclick=\"quickchart('df-4b1ff240-41cb-40e1-91e5-7b8d4ac2daf6')\"\n",
              "            title=\"Suggest charts\"\n",
              "            style=\"display:none;\">\n",
              "\n",
              "<svg xmlns=\"http://www.w3.org/2000/svg\" height=\"24px\"viewBox=\"0 0 24 24\"\n",
              "     width=\"24px\">\n",
              "    <g>\n",
              "        <path d=\"M19 3H5c-1.1 0-2 .9-2 2v14c0 1.1.9 2 2 2h14c1.1 0 2-.9 2-2V5c0-1.1-.9-2-2-2zM9 17H7v-7h2v7zm4 0h-2V7h2v10zm4 0h-2v-4h2v4z\"/>\n",
              "    </g>\n",
              "</svg>\n",
              "  </button>\n",
              "\n",
              "<style>\n",
              "  .colab-df-quickchart {\n",
              "      --bg-color: #E8F0FE;\n",
              "      --fill-color: #1967D2;\n",
              "      --hover-bg-color: #E2EBFA;\n",
              "      --hover-fill-color: #174EA6;\n",
              "      --disabled-fill-color: #AAA;\n",
              "      --disabled-bg-color: #DDD;\n",
              "  }\n",
              "\n",
              "  [theme=dark] .colab-df-quickchart {\n",
              "      --bg-color: #3B4455;\n",
              "      --fill-color: #D2E3FC;\n",
              "      --hover-bg-color: #434B5C;\n",
              "      --hover-fill-color: #FFFFFF;\n",
              "      --disabled-bg-color: #3B4455;\n",
              "      --disabled-fill-color: #666;\n",
              "  }\n",
              "\n",
              "  .colab-df-quickchart {\n",
              "    background-color: var(--bg-color);\n",
              "    border: none;\n",
              "    border-radius: 50%;\n",
              "    cursor: pointer;\n",
              "    display: none;\n",
              "    fill: var(--fill-color);\n",
              "    height: 32px;\n",
              "    padding: 0;\n",
              "    width: 32px;\n",
              "  }\n",
              "\n",
              "  .colab-df-quickchart:hover {\n",
              "    background-color: var(--hover-bg-color);\n",
              "    box-shadow: 0 1px 2px rgba(60, 64, 67, 0.3), 0 1px 3px 1px rgba(60, 64, 67, 0.15);\n",
              "    fill: var(--button-hover-fill-color);\n",
              "  }\n",
              "\n",
              "  .colab-df-quickchart-complete:disabled,\n",
              "  .colab-df-quickchart-complete:disabled:hover {\n",
              "    background-color: var(--disabled-bg-color);\n",
              "    fill: var(--disabled-fill-color);\n",
              "    box-shadow: none;\n",
              "  }\n",
              "\n",
              "  .colab-df-spinner {\n",
              "    border: 2px solid var(--fill-color);\n",
              "    border-color: transparent;\n",
              "    border-bottom-color: var(--fill-color);\n",
              "    animation:\n",
              "      spin 1s steps(1) infinite;\n",
              "  }\n",
              "\n",
              "  @keyframes spin {\n",
              "    0% {\n",
              "      border-color: transparent;\n",
              "      border-bottom-color: var(--fill-color);\n",
              "      border-left-color: var(--fill-color);\n",
              "    }\n",
              "    20% {\n",
              "      border-color: transparent;\n",
              "      border-left-color: var(--fill-color);\n",
              "      border-top-color: var(--fill-color);\n",
              "    }\n",
              "    30% {\n",
              "      border-color: transparent;\n",
              "      border-left-color: var(--fill-color);\n",
              "      border-top-color: var(--fill-color);\n",
              "      border-right-color: var(--fill-color);\n",
              "    }\n",
              "    40% {\n",
              "      border-color: transparent;\n",
              "      border-right-color: var(--fill-color);\n",
              "      border-top-color: var(--fill-color);\n",
              "    }\n",
              "    60% {\n",
              "      border-color: transparent;\n",
              "      border-right-color: var(--fill-color);\n",
              "    }\n",
              "    80% {\n",
              "      border-color: transparent;\n",
              "      border-right-color: var(--fill-color);\n",
              "      border-bottom-color: var(--fill-color);\n",
              "    }\n",
              "    90% {\n",
              "      border-color: transparent;\n",
              "      border-bottom-color: var(--fill-color);\n",
              "    }\n",
              "  }\n",
              "</style>\n",
              "\n",
              "  <script>\n",
              "    async function quickchart(key) {\n",
              "      const quickchartButtonEl =\n",
              "        document.querySelector('#' + key + ' button');\n",
              "      quickchartButtonEl.disabled = true;  // To prevent multiple clicks.\n",
              "      quickchartButtonEl.classList.add('colab-df-spinner');\n",
              "      try {\n",
              "        const charts = await google.colab.kernel.invokeFunction(\n",
              "            'suggestCharts', [key], {});\n",
              "      } catch (error) {\n",
              "        console.error('Error during call to suggestCharts:', error);\n",
              "      }\n",
              "      quickchartButtonEl.classList.remove('colab-df-spinner');\n",
              "      quickchartButtonEl.classList.add('colab-df-quickchart-complete');\n",
              "    }\n",
              "    (() => {\n",
              "      let quickchartButtonEl =\n",
              "        document.querySelector('#df-4b1ff240-41cb-40e1-91e5-7b8d4ac2daf6 button');\n",
              "      quickchartButtonEl.style.display =\n",
              "        google.colab.kernel.accessAllowed ? 'block' : 'none';\n",
              "    })();\n",
              "  </script>\n",
              "</div>\n",
              "\n",
              "    </div>\n",
              "  </div>\n"
            ],
            "application/vnd.google.colaboratory.intrinsic+json": {
              "type": "dataframe",
              "summary": "{\n  \"name\": \"df_original\",\n  \"rows\": 8,\n  \"fields\": [\n    {\n      \"column\": \"ID\",\n      \"properties\": {\n        \"dtype\": \"number\",\n        \"std\": 46809.07559167215,\n        \"min\": 1.0,\n        \"max\": 129880.0,\n        \"num_unique_values\": 6,\n        \"samples\": [\n          129880.0,\n          64940.5,\n          97410.25\n        ],\n        \"semantic_type\": \"\",\n        \"description\": \"\"\n      }\n    },\n    {\n      \"column\": \"Age\",\n      \"properties\": {\n        \"dtype\": \"number\",\n        \"std\": 45906.15892017553,\n        \"min\": 7.0,\n        \"max\": 129880.0,\n        \"num_unique_values\": 8,\n        \"samples\": [\n          39.42795657530028,\n          40.0,\n          129880.0\n        ],\n        \"semantic_type\": \"\",\n        \"description\": \"\"\n      }\n    },\n    {\n      \"column\": \"Flight Distance\",\n      \"properties\": {\n        \"dtype\": \"number\",\n        \"std\": 45429.77295464859,\n        \"min\": 31.0,\n        \"max\": 129880.0,\n        \"num_unique_values\": 8,\n        \"samples\": [\n          1190.3163920542038,\n          844.0,\n          129880.0\n        ],\n        \"semantic_type\": \"\",\n        \"description\": \"\"\n      }\n    },\n    {\n      \"column\": \"Departure Delay\",\n      \"properties\": {\n        \"dtype\": \"number\",\n        \"std\": 45839.175312304804,\n        \"min\": 0.0,\n        \"max\": 129880.0,\n        \"num_unique_values\": 6,\n        \"samples\": [\n          129880.0,\n          14.713712657838004,\n          1592.0\n        ],\n        \"semantic_type\": \"\",\n        \"description\": \"\"\n      }\n    },\n    {\n      \"column\": \"Arrival Delay\",\n      \"properties\": {\n        \"dtype\": \"number\",\n        \"std\": 45700.51852097231,\n        \"min\": 0.0,\n        \"max\": 129487.0,\n        \"num_unique_values\": 6,\n        \"samples\": [\n          129487.0,\n          15.09112883918849,\n          1584.0\n        ],\n        \"semantic_type\": \"\",\n        \"description\": \"\"\n      }\n    },\n    {\n      \"column\": \"Departure and Arrival Time Convenience\",\n      \"properties\": {\n        \"dtype\": \"number\",\n        \"std\": 45918.57574471455,\n        \"min\": 0.0,\n        \"max\": 129880.0,\n        \"num_unique_values\": 8,\n        \"samples\": [\n          3.0575993224514937,\n          3.0,\n          129880.0\n        ],\n        \"semantic_type\": \"\",\n        \"description\": \"\"\n      }\n    },\n    {\n      \"column\": \"Ease of Online Booking\",\n      \"properties\": {\n        \"dtype\": \"number\",\n        \"std\": 45918.597247292375,\n        \"min\": 0.0,\n        \"max\": 129880.0,\n        \"num_unique_values\": 8,\n        \"samples\": [\n          2.7568755774561136,\n          3.0,\n          129880.0\n        ],\n        \"semantic_type\": \"\",\n        \"description\": \"\"\n      }\n    },\n    {\n      \"column\": \"Check-in Service\",\n      \"properties\": {\n        \"dtype\": \"number\",\n        \"std\": 45918.52583825859,\n        \"min\": 0.0,\n        \"max\": 129880.0,\n        \"num_unique_values\": 7,\n        \"samples\": [\n          129880.0,\n          3.3062673236834,\n          4.0\n        ],\n        \"semantic_type\": \"\",\n        \"description\": \"\"\n      }\n    },\n    {\n      \"column\": \"Online Boarding\",\n      \"properties\": {\n        \"dtype\": \"number\",\n        \"std\": 45918.574785475095,\n        \"min\": 0.0,\n        \"max\": 129880.0,\n        \"num_unique_values\": 8,\n        \"samples\": [\n          3.252633199876809,\n          3.0,\n          129880.0\n        ],\n        \"semantic_type\": \"\",\n        \"description\": \"\"\n      }\n    },\n    {\n      \"column\": \"Gate Location\",\n      \"properties\": {\n        \"dtype\": \"number\",\n        \"std\": 45918.592357337395,\n        \"min\": 0.0,\n        \"max\": 129880.0,\n        \"num_unique_values\": 8,\n        \"samples\": [\n          2.976924853711118,\n          3.0,\n          129880.0\n        ],\n        \"semantic_type\": \"\",\n        \"description\": \"\"\n      }\n    },\n    {\n      \"column\": \"On-board Service\",\n      \"properties\": {\n        \"dtype\": \"number\",\n        \"std\": 45918.52090834568,\n        \"min\": 0.0,\n        \"max\": 129880.0,\n        \"num_unique_values\": 7,\n        \"samples\": [\n          129880.0,\n          3.3830227902679395,\n          4.0\n        ],\n        \"semantic_type\": \"\",\n        \"description\": \"\"\n      }\n    },\n    {\n      \"column\": \"Seat Comfort\",\n      \"properties\": {\n        \"dtype\": \"number\",\n        \"std\": 45918.465833316,\n        \"min\": 0.0,\n        \"max\": 129880.0,\n        \"num_unique_values\": 7,\n        \"samples\": [\n          129880.0,\n          3.4413612565445026,\n          4.0\n        ],\n        \"semantic_type\": \"\",\n        \"description\": \"\"\n      }\n    },\n    {\n      \"column\": \"Leg Room Service\",\n      \"properties\": {\n        \"dtype\": \"number\",\n        \"std\": 45918.521059304214,\n        \"min\": 0.0,\n        \"max\": 129880.0,\n        \"num_unique_values\": 7,\n        \"samples\": [\n          129880.0,\n          3.3508777332922697,\n          4.0\n        ],\n        \"semantic_type\": \"\",\n        \"description\": \"\"\n      }\n    },\n    {\n      \"column\": \"Cleanliness\",\n      \"properties\": {\n        \"dtype\": \"number\",\n        \"std\": 45918.57495458441,\n        \"min\": 0.0,\n        \"max\": 129880.0,\n        \"num_unique_values\": 8,\n        \"samples\": [\n          3.286325839236218,\n          3.0,\n          129880.0\n        ],\n        \"semantic_type\": \"\",\n        \"description\": \"\"\n      }\n    },\n    {\n      \"column\": \"Food and Drink\",\n      \"properties\": {\n        \"dtype\": \"number\",\n        \"std\": 45918.578252583815,\n        \"min\": 0.0,\n        \"max\": 129880.0,\n        \"num_unique_values\": 8,\n        \"samples\": [\n          3.2047736372035724,\n          3.0,\n          129880.0\n        ],\n        \"semantic_type\": \"\",\n        \"description\": \"\"\n      }\n    },\n    {\n      \"column\": \"In-flight Service\",\n      \"properties\": {\n        \"dtype\": \"number\",\n        \"std\": 45918.4123849767,\n        \"min\": 0.0,\n        \"max\": 129880.0,\n        \"num_unique_values\": 7,\n        \"samples\": [\n          129880.0,\n          3.6421927933477054,\n          4.0\n        ],\n        \"semantic_type\": \"\",\n        \"description\": \"\"\n      }\n    },\n    {\n      \"column\": \"In-flight Wifi Service\",\n      \"properties\": {\n        \"dtype\": \"number\",\n        \"std\": 45918.60232757701,\n        \"min\": 0.0,\n        \"max\": 129880.0,\n        \"num_unique_values\": 8,\n        \"samples\": [\n          2.7286957191253465,\n          3.0,\n          129880.0\n        ],\n        \"semantic_type\": \"\",\n        \"description\": \"\"\n      }\n    },\n    {\n      \"column\": \"In-flight Entertainment\",\n      \"properties\": {\n        \"dtype\": \"number\",\n        \"std\": 45918.51979673717,\n        \"min\": 0.0,\n        \"max\": 129880.0,\n        \"num_unique_values\": 7,\n        \"samples\": [\n          129880.0,\n          3.358076686171851,\n          4.0\n        ],\n        \"semantic_type\": \"\",\n        \"description\": \"\"\n      }\n    },\n    {\n      \"column\": \"Baggage Handling\",\n      \"properties\": {\n        \"dtype\": \"number\",\n        \"std\": 45918.36220851654,\n        \"min\": 1.0,\n        \"max\": 129880.0,\n        \"num_unique_values\": 7,\n        \"samples\": [\n          129880.0,\n          3.632114259316292,\n          4.0\n        ],\n        \"semantic_type\": \"\",\n        \"description\": \"\"\n      }\n    }\n  ]\n}"
            }
          },
          "metadata": {},
          "execution_count": 8
        }
      ]
    },
    {
      "cell_type": "code",
      "source": [
        "print(\"\\nSummary Statistics:\")\n",
        "summary_stats = df_original.describe().T\n",
        "summary_stats = summary_stats.round(1)\n",
        "print(summary_stats)\n",
        "\n",
        "# Save to CSV\n",
        "summary_stats.to_csv(\"summary_stats.csv\", index=True)\n",
        "print(\"Summary statistics saved to summary_stats.csv\")"
      ],
      "metadata": {
        "colab": {
          "base_uri": "https://localhost:8080/"
        },
        "id": "NasUJFyi5KK7",
        "outputId": "fbb44117-cf49-4477-f6c0-d29f449ea197"
      },
      "execution_count": null,
      "outputs": [
        {
          "output_type": "stream",
          "name": "stdout",
          "text": [
            "\n",
            "Summary Statistics:\n",
            "                                           count     mean      std   min  \\\n",
            "ID                                      129880.0  64940.5  37493.3   1.0   \n",
            "Age                                     129880.0     39.4     15.1   7.0   \n",
            "Flight Distance                         129880.0   1190.3    997.5  31.0   \n",
            "Departure Delay                         129880.0     14.7     38.1   0.0   \n",
            "Arrival Delay                           129487.0     15.1     38.5   0.0   \n",
            "Departure and Arrival Time Convenience  129880.0      3.1      1.5   0.0   \n",
            "Ease of Online Booking                  129880.0      2.8      1.4   0.0   \n",
            "Check-in Service                        129880.0      3.3      1.3   0.0   \n",
            "Online Boarding                         129880.0      3.3      1.4   0.0   \n",
            "Gate Location                           129880.0      3.0      1.3   0.0   \n",
            "On-board Service                        129880.0      3.4      1.3   0.0   \n",
            "Seat Comfort                            129880.0      3.4      1.3   0.0   \n",
            "Leg Room Service                        129880.0      3.4      1.3   0.0   \n",
            "Cleanliness                             129880.0      3.3      1.3   0.0   \n",
            "Food and Drink                          129880.0      3.2      1.3   0.0   \n",
            "In-flight Service                       129880.0      3.6      1.2   0.0   \n",
            "In-flight Wifi Service                  129880.0      2.7      1.3   0.0   \n",
            "In-flight Entertainment                 129880.0      3.4      1.3   0.0   \n",
            "Baggage Handling                        129880.0      3.6      1.2   1.0   \n",
            "\n",
            "                                            25%      50%      75%       max  \n",
            "ID                                      32470.8  64940.5  97410.2  129880.0  \n",
            "Age                                        27.0     40.0     51.0      85.0  \n",
            "Flight Distance                           414.0    844.0   1744.0    4983.0  \n",
            "Departure Delay                             0.0      0.0     12.0    1592.0  \n",
            "Arrival Delay                               0.0      0.0     13.0    1584.0  \n",
            "Departure and Arrival Time Convenience      2.0      3.0      4.0       5.0  \n",
            "Ease of Online Booking                      2.0      3.0      4.0       5.0  \n",
            "Check-in Service                            3.0      3.0      4.0       5.0  \n",
            "Online Boarding                             2.0      3.0      4.0       5.0  \n",
            "Gate Location                               2.0      3.0      4.0       5.0  \n",
            "On-board Service                            2.0      4.0      4.0       5.0  \n",
            "Seat Comfort                                2.0      4.0      5.0       5.0  \n",
            "Leg Room Service                            2.0      4.0      4.0       5.0  \n",
            "Cleanliness                                 2.0      3.0      4.0       5.0  \n",
            "Food and Drink                              2.0      3.0      4.0       5.0  \n",
            "In-flight Service                           3.0      4.0      5.0       5.0  \n",
            "In-flight Wifi Service                      2.0      3.0      4.0       5.0  \n",
            "In-flight Entertainment                     2.0      4.0      4.0       5.0  \n",
            "Baggage Handling                            3.0      4.0      5.0       5.0  \n",
            "Summary statistics saved to summary_stats.csv\n"
          ]
        }
      ]
    },
    {
      "cell_type": "code",
      "source": [
        "# Create list of unique values within the categorical type columns\n",
        "categorical_cols = df_original.select_dtypes(include=['object']).columns\n",
        "\n",
        "for col in categorical_cols:\n",
        "    unique_values = df_original[col].unique()\n",
        "    print(f\"Unique values for '{col}': {unique_values}\")"
      ],
      "metadata": {
        "colab": {
          "base_uri": "https://localhost:8080/"
        },
        "id": "M-3ll2Id5rN9",
        "outputId": "07d7add2-5ab3-4acb-cbe7-b70cad7e33da"
      },
      "execution_count": null,
      "outputs": [
        {
          "output_type": "stream",
          "name": "stdout",
          "text": [
            "Unique values for 'Gender': ['Male' 'Female']\n",
            "Unique values for 'Customer Type': ['First-time' 'Returning']\n",
            "Unique values for 'Type of Travel': ['Business' 'Personal']\n",
            "Unique values for 'Class': ['Business' 'Economy' 'Economy Plus']\n",
            "Unique values for 'Satisfaction': ['Neutral or Dissatisfied' 'Satisfied']\n"
          ]
        }
      ]
    },
    {
      "cell_type": "code",
      "source": [
        "# Create a table to show the spread of the data across those unique values\n",
        "summary_table = pd.DataFrame()\n",
        "\n",
        "for col in categorical_cols:\n",
        "    counts = df_original[col].value_counts().reset_index()\n",
        "    counts.columns = ['Level', 'Count']\n",
        "    counts['Percentage'] = (counts['Count'] / counts['Count'].sum()) * 100\n",
        "    counts['Variable'] = col\n",
        "    summary_table = pd.concat([summary_table, counts], ignore_index=True)\n",
        "\n",
        "\n",
        "summary_table = summary_table[['Variable', 'Level', 'Count', 'Percentage']]\n",
        "summary_table"
      ],
      "metadata": {
        "colab": {
          "base_uri": "https://localhost:8080/",
          "height": 390
        },
        "id": "EV_KmDOuP0b8",
        "outputId": "d500d06e-cd10-4355-e247-59b8118a02d5"
      },
      "execution_count": null,
      "outputs": [
        {
          "output_type": "execute_result",
          "data": {
            "text/plain": [
              "          Variable                    Level   Count  Percentage\n",
              "0           Gender                   Female   65899   50.738374\n",
              "1           Gender                     Male   63981   49.261626\n",
              "2    Customer Type                Returning  106100   81.690791\n",
              "3    Customer Type               First-time   23780   18.309209\n",
              "4   Type of Travel                 Business   89693   69.058362\n",
              "5   Type of Travel                 Personal   40187   30.941638\n",
              "6            Class                 Business   62160   47.859563\n",
              "7            Class                  Economy   58309   44.894518\n",
              "8            Class             Economy Plus    9411    7.245919\n",
              "9     Satisfaction  Neutral or Dissatisfied   73452   56.553742\n",
              "10    Satisfaction                Satisfied   56428   43.446258"
            ],
            "text/html": [
              "\n",
              "  <div id=\"df-d61189b7-9d2d-4a97-9135-e4578f055c1b\" class=\"colab-df-container\">\n",
              "    <div>\n",
              "<style scoped>\n",
              "    .dataframe tbody tr th:only-of-type {\n",
              "        vertical-align: middle;\n",
              "    }\n",
              "\n",
              "    .dataframe tbody tr th {\n",
              "        vertical-align: top;\n",
              "    }\n",
              "\n",
              "    .dataframe thead th {\n",
              "        text-align: right;\n",
              "    }\n",
              "</style>\n",
              "<table border=\"1\" class=\"dataframe\">\n",
              "  <thead>\n",
              "    <tr style=\"text-align: right;\">\n",
              "      <th></th>\n",
              "      <th>Variable</th>\n",
              "      <th>Level</th>\n",
              "      <th>Count</th>\n",
              "      <th>Percentage</th>\n",
              "    </tr>\n",
              "  </thead>\n",
              "  <tbody>\n",
              "    <tr>\n",
              "      <th>0</th>\n",
              "      <td>Gender</td>\n",
              "      <td>Female</td>\n",
              "      <td>65899</td>\n",
              "      <td>50.738374</td>\n",
              "    </tr>\n",
              "    <tr>\n",
              "      <th>1</th>\n",
              "      <td>Gender</td>\n",
              "      <td>Male</td>\n",
              "      <td>63981</td>\n",
              "      <td>49.261626</td>\n",
              "    </tr>\n",
              "    <tr>\n",
              "      <th>2</th>\n",
              "      <td>Customer Type</td>\n",
              "      <td>Returning</td>\n",
              "      <td>106100</td>\n",
              "      <td>81.690791</td>\n",
              "    </tr>\n",
              "    <tr>\n",
              "      <th>3</th>\n",
              "      <td>Customer Type</td>\n",
              "      <td>First-time</td>\n",
              "      <td>23780</td>\n",
              "      <td>18.309209</td>\n",
              "    </tr>\n",
              "    <tr>\n",
              "      <th>4</th>\n",
              "      <td>Type of Travel</td>\n",
              "      <td>Business</td>\n",
              "      <td>89693</td>\n",
              "      <td>69.058362</td>\n",
              "    </tr>\n",
              "    <tr>\n",
              "      <th>5</th>\n",
              "      <td>Type of Travel</td>\n",
              "      <td>Personal</td>\n",
              "      <td>40187</td>\n",
              "      <td>30.941638</td>\n",
              "    </tr>\n",
              "    <tr>\n",
              "      <th>6</th>\n",
              "      <td>Class</td>\n",
              "      <td>Business</td>\n",
              "      <td>62160</td>\n",
              "      <td>47.859563</td>\n",
              "    </tr>\n",
              "    <tr>\n",
              "      <th>7</th>\n",
              "      <td>Class</td>\n",
              "      <td>Economy</td>\n",
              "      <td>58309</td>\n",
              "      <td>44.894518</td>\n",
              "    </tr>\n",
              "    <tr>\n",
              "      <th>8</th>\n",
              "      <td>Class</td>\n",
              "      <td>Economy Plus</td>\n",
              "      <td>9411</td>\n",
              "      <td>7.245919</td>\n",
              "    </tr>\n",
              "    <tr>\n",
              "      <th>9</th>\n",
              "      <td>Satisfaction</td>\n",
              "      <td>Neutral or Dissatisfied</td>\n",
              "      <td>73452</td>\n",
              "      <td>56.553742</td>\n",
              "    </tr>\n",
              "    <tr>\n",
              "      <th>10</th>\n",
              "      <td>Satisfaction</td>\n",
              "      <td>Satisfied</td>\n",
              "      <td>56428</td>\n",
              "      <td>43.446258</td>\n",
              "    </tr>\n",
              "  </tbody>\n",
              "</table>\n",
              "</div>\n",
              "    <div class=\"colab-df-buttons\">\n",
              "\n",
              "  <div class=\"colab-df-container\">\n",
              "    <button class=\"colab-df-convert\" onclick=\"convertToInteractive('df-d61189b7-9d2d-4a97-9135-e4578f055c1b')\"\n",
              "            title=\"Convert this dataframe to an interactive table.\"\n",
              "            style=\"display:none;\">\n",
              "\n",
              "  <svg xmlns=\"http://www.w3.org/2000/svg\" height=\"24px\" viewBox=\"0 -960 960 960\">\n",
              "    <path d=\"M120-120v-720h720v720H120Zm60-500h600v-160H180v160Zm220 220h160v-160H400v160Zm0 220h160v-160H400v160ZM180-400h160v-160H180v160Zm440 0h160v-160H620v160ZM180-180h160v-160H180v160Zm440 0h160v-160H620v160Z\"/>\n",
              "  </svg>\n",
              "    </button>\n",
              "\n",
              "  <style>\n",
              "    .colab-df-container {\n",
              "      display:flex;\n",
              "      gap: 12px;\n",
              "    }\n",
              "\n",
              "    .colab-df-convert {\n",
              "      background-color: #E8F0FE;\n",
              "      border: none;\n",
              "      border-radius: 50%;\n",
              "      cursor: pointer;\n",
              "      display: none;\n",
              "      fill: #1967D2;\n",
              "      height: 32px;\n",
              "      padding: 0 0 0 0;\n",
              "      width: 32px;\n",
              "    }\n",
              "\n",
              "    .colab-df-convert:hover {\n",
              "      background-color: #E2EBFA;\n",
              "      box-shadow: 0px 1px 2px rgba(60, 64, 67, 0.3), 0px 1px 3px 1px rgba(60, 64, 67, 0.15);\n",
              "      fill: #174EA6;\n",
              "    }\n",
              "\n",
              "    .colab-df-buttons div {\n",
              "      margin-bottom: 4px;\n",
              "    }\n",
              "\n",
              "    [theme=dark] .colab-df-convert {\n",
              "      background-color: #3B4455;\n",
              "      fill: #D2E3FC;\n",
              "    }\n",
              "\n",
              "    [theme=dark] .colab-df-convert:hover {\n",
              "      background-color: #434B5C;\n",
              "      box-shadow: 0px 1px 3px 1px rgba(0, 0, 0, 0.15);\n",
              "      filter: drop-shadow(0px 1px 2px rgba(0, 0, 0, 0.3));\n",
              "      fill: #FFFFFF;\n",
              "    }\n",
              "  </style>\n",
              "\n",
              "    <script>\n",
              "      const buttonEl =\n",
              "        document.querySelector('#df-d61189b7-9d2d-4a97-9135-e4578f055c1b button.colab-df-convert');\n",
              "      buttonEl.style.display =\n",
              "        google.colab.kernel.accessAllowed ? 'block' : 'none';\n",
              "\n",
              "      async function convertToInteractive(key) {\n",
              "        const element = document.querySelector('#df-d61189b7-9d2d-4a97-9135-e4578f055c1b');\n",
              "        const dataTable =\n",
              "          await google.colab.kernel.invokeFunction('convertToInteractive',\n",
              "                                                    [key], {});\n",
              "        if (!dataTable) return;\n",
              "\n",
              "        const docLinkHtml = 'Like what you see? Visit the ' +\n",
              "          '<a target=\"_blank\" href=https://colab.research.google.com/notebooks/data_table.ipynb>data table notebook</a>'\n",
              "          + ' to learn more about interactive tables.';\n",
              "        element.innerHTML = '';\n",
              "        dataTable['output_type'] = 'display_data';\n",
              "        await google.colab.output.renderOutput(dataTable, element);\n",
              "        const docLink = document.createElement('div');\n",
              "        docLink.innerHTML = docLinkHtml;\n",
              "        element.appendChild(docLink);\n",
              "      }\n",
              "    </script>\n",
              "  </div>\n",
              "\n",
              "\n",
              "<div id=\"df-68561f3e-e992-4ab9-8bac-9745f383ae7c\">\n",
              "  <button class=\"colab-df-quickchart\" onclick=\"quickchart('df-68561f3e-e992-4ab9-8bac-9745f383ae7c')\"\n",
              "            title=\"Suggest charts\"\n",
              "            style=\"display:none;\">\n",
              "\n",
              "<svg xmlns=\"http://www.w3.org/2000/svg\" height=\"24px\"viewBox=\"0 0 24 24\"\n",
              "     width=\"24px\">\n",
              "    <g>\n",
              "        <path d=\"M19 3H5c-1.1 0-2 .9-2 2v14c0 1.1.9 2 2 2h14c1.1 0 2-.9 2-2V5c0-1.1-.9-2-2-2zM9 17H7v-7h2v7zm4 0h-2V7h2v10zm4 0h-2v-4h2v4z\"/>\n",
              "    </g>\n",
              "</svg>\n",
              "  </button>\n",
              "\n",
              "<style>\n",
              "  .colab-df-quickchart {\n",
              "      --bg-color: #E8F0FE;\n",
              "      --fill-color: #1967D2;\n",
              "      --hover-bg-color: #E2EBFA;\n",
              "      --hover-fill-color: #174EA6;\n",
              "      --disabled-fill-color: #AAA;\n",
              "      --disabled-bg-color: #DDD;\n",
              "  }\n",
              "\n",
              "  [theme=dark] .colab-df-quickchart {\n",
              "      --bg-color: #3B4455;\n",
              "      --fill-color: #D2E3FC;\n",
              "      --hover-bg-color: #434B5C;\n",
              "      --hover-fill-color: #FFFFFF;\n",
              "      --disabled-bg-color: #3B4455;\n",
              "      --disabled-fill-color: #666;\n",
              "  }\n",
              "\n",
              "  .colab-df-quickchart {\n",
              "    background-color: var(--bg-color);\n",
              "    border: none;\n",
              "    border-radius: 50%;\n",
              "    cursor: pointer;\n",
              "    display: none;\n",
              "    fill: var(--fill-color);\n",
              "    height: 32px;\n",
              "    padding: 0;\n",
              "    width: 32px;\n",
              "  }\n",
              "\n",
              "  .colab-df-quickchart:hover {\n",
              "    background-color: var(--hover-bg-color);\n",
              "    box-shadow: 0 1px 2px rgba(60, 64, 67, 0.3), 0 1px 3px 1px rgba(60, 64, 67, 0.15);\n",
              "    fill: var(--button-hover-fill-color);\n",
              "  }\n",
              "\n",
              "  .colab-df-quickchart-complete:disabled,\n",
              "  .colab-df-quickchart-complete:disabled:hover {\n",
              "    background-color: var(--disabled-bg-color);\n",
              "    fill: var(--disabled-fill-color);\n",
              "    box-shadow: none;\n",
              "  }\n",
              "\n",
              "  .colab-df-spinner {\n",
              "    border: 2px solid var(--fill-color);\n",
              "    border-color: transparent;\n",
              "    border-bottom-color: var(--fill-color);\n",
              "    animation:\n",
              "      spin 1s steps(1) infinite;\n",
              "  }\n",
              "\n",
              "  @keyframes spin {\n",
              "    0% {\n",
              "      border-color: transparent;\n",
              "      border-bottom-color: var(--fill-color);\n",
              "      border-left-color: var(--fill-color);\n",
              "    }\n",
              "    20% {\n",
              "      border-color: transparent;\n",
              "      border-left-color: var(--fill-color);\n",
              "      border-top-color: var(--fill-color);\n",
              "    }\n",
              "    30% {\n",
              "      border-color: transparent;\n",
              "      border-left-color: var(--fill-color);\n",
              "      border-top-color: var(--fill-color);\n",
              "      border-right-color: var(--fill-color);\n",
              "    }\n",
              "    40% {\n",
              "      border-color: transparent;\n",
              "      border-right-color: var(--fill-color);\n",
              "      border-top-color: var(--fill-color);\n",
              "    }\n",
              "    60% {\n",
              "      border-color: transparent;\n",
              "      border-right-color: var(--fill-color);\n",
              "    }\n",
              "    80% {\n",
              "      border-color: transparent;\n",
              "      border-right-color: var(--fill-color);\n",
              "      border-bottom-color: var(--fill-color);\n",
              "    }\n",
              "    90% {\n",
              "      border-color: transparent;\n",
              "      border-bottom-color: var(--fill-color);\n",
              "    }\n",
              "  }\n",
              "</style>\n",
              "\n",
              "  <script>\n",
              "    async function quickchart(key) {\n",
              "      const quickchartButtonEl =\n",
              "        document.querySelector('#' + key + ' button');\n",
              "      quickchartButtonEl.disabled = true;  // To prevent multiple clicks.\n",
              "      quickchartButtonEl.classList.add('colab-df-spinner');\n",
              "      try {\n",
              "        const charts = await google.colab.kernel.invokeFunction(\n",
              "            'suggestCharts', [key], {});\n",
              "      } catch (error) {\n",
              "        console.error('Error during call to suggestCharts:', error);\n",
              "      }\n",
              "      quickchartButtonEl.classList.remove('colab-df-spinner');\n",
              "      quickchartButtonEl.classList.add('colab-df-quickchart-complete');\n",
              "    }\n",
              "    (() => {\n",
              "      let quickchartButtonEl =\n",
              "        document.querySelector('#df-68561f3e-e992-4ab9-8bac-9745f383ae7c button');\n",
              "      quickchartButtonEl.style.display =\n",
              "        google.colab.kernel.accessAllowed ? 'block' : 'none';\n",
              "    })();\n",
              "  </script>\n",
              "</div>\n",
              "\n",
              "  <div id=\"id_3e4d9f75-6da4-441e-b337-ba88d36a6fc7\">\n",
              "    <style>\n",
              "      .colab-df-generate {\n",
              "        background-color: #E8F0FE;\n",
              "        border: none;\n",
              "        border-radius: 50%;\n",
              "        cursor: pointer;\n",
              "        display: none;\n",
              "        fill: #1967D2;\n",
              "        height: 32px;\n",
              "        padding: 0 0 0 0;\n",
              "        width: 32px;\n",
              "      }\n",
              "\n",
              "      .colab-df-generate:hover {\n",
              "        background-color: #E2EBFA;\n",
              "        box-shadow: 0px 1px 2px rgba(60, 64, 67, 0.3), 0px 1px 3px 1px rgba(60, 64, 67, 0.15);\n",
              "        fill: #174EA6;\n",
              "      }\n",
              "\n",
              "      [theme=dark] .colab-df-generate {\n",
              "        background-color: #3B4455;\n",
              "        fill: #D2E3FC;\n",
              "      }\n",
              "\n",
              "      [theme=dark] .colab-df-generate:hover {\n",
              "        background-color: #434B5C;\n",
              "        box-shadow: 0px 1px 3px 1px rgba(0, 0, 0, 0.15);\n",
              "        filter: drop-shadow(0px 1px 2px rgba(0, 0, 0, 0.3));\n",
              "        fill: #FFFFFF;\n",
              "      }\n",
              "    </style>\n",
              "    <button class=\"colab-df-generate\" onclick=\"generateWithVariable('summary_table')\"\n",
              "            title=\"Generate code using this dataframe.\"\n",
              "            style=\"display:none;\">\n",
              "\n",
              "  <svg xmlns=\"http://www.w3.org/2000/svg\" height=\"24px\"viewBox=\"0 0 24 24\"\n",
              "       width=\"24px\">\n",
              "    <path d=\"M7,19H8.4L18.45,9,17,7.55,7,17.6ZM5,21V16.75L18.45,3.32a2,2,0,0,1,2.83,0l1.4,1.43a1.91,1.91,0,0,1,.58,1.4,1.91,1.91,0,0,1-.58,1.4L9.25,21ZM18.45,9,17,7.55Zm-12,3A5.31,5.31,0,0,0,4.9,8.1,5.31,5.31,0,0,0,1,6.5,5.31,5.31,0,0,0,4.9,4.9,5.31,5.31,0,0,0,6.5,1,5.31,5.31,0,0,0,8.1,4.9,5.31,5.31,0,0,0,12,6.5,5.46,5.46,0,0,0,6.5,12Z\"/>\n",
              "  </svg>\n",
              "    </button>\n",
              "    <script>\n",
              "      (() => {\n",
              "      const buttonEl =\n",
              "        document.querySelector('#id_3e4d9f75-6da4-441e-b337-ba88d36a6fc7 button.colab-df-generate');\n",
              "      buttonEl.style.display =\n",
              "        google.colab.kernel.accessAllowed ? 'block' : 'none';\n",
              "\n",
              "      buttonEl.onclick = () => {\n",
              "        google.colab.notebook.generateWithVariable('summary_table');\n",
              "      }\n",
              "      })();\n",
              "    </script>\n",
              "  </div>\n",
              "\n",
              "    </div>\n",
              "  </div>\n"
            ],
            "application/vnd.google.colaboratory.intrinsic+json": {
              "type": "dataframe",
              "variable_name": "summary_table",
              "summary": "{\n  \"name\": \"summary_table\",\n  \"rows\": 11,\n  \"fields\": [\n    {\n      \"column\": \"Variable\",\n      \"properties\": {\n        \"dtype\": \"category\",\n        \"num_unique_values\": 5,\n        \"samples\": [\n          \"Customer Type\",\n          \"Satisfaction\",\n          \"Type of Travel\"\n        ],\n        \"semantic_type\": \"\",\n        \"description\": \"\"\n      }\n    },\n    {\n      \"column\": \"Level\",\n      \"properties\": {\n        \"dtype\": \"string\",\n        \"num_unique_values\": 10,\n        \"samples\": [\n          \"Neutral or Dissatisfied\",\n          \"Male\",\n          \"Personal\"\n        ],\n        \"semantic_type\": \"\",\n        \"description\": \"\"\n      }\n    },\n    {\n      \"column\": \"Count\",\n      \"properties\": {\n        \"dtype\": \"number\",\n        \"std\": 27408,\n        \"min\": 9411,\n        \"max\": 106100,\n        \"num_unique_values\": 11,\n        \"samples\": [\n          40187,\n          65899,\n          73452\n        ],\n        \"semantic_type\": \"\",\n        \"description\": \"\"\n      }\n    },\n    {\n      \"column\": \"Percentage\",\n      \"properties\": {\n        \"dtype\": \"number\",\n        \"std\": 21.102924886360245,\n        \"min\": 7.24591931013243,\n        \"max\": 81.69079149984601,\n        \"num_unique_values\": 11,\n        \"samples\": [\n          30.9416384354789,\n          50.738373883584856,\n          56.55374191561441\n        ],\n        \"semantic_type\": \"\",\n        \"description\": \"\"\n      }\n    }\n  ]\n}"
            }
          },
          "metadata": {},
          "execution_count": 11
        }
      ]
    },
    {
      "cell_type": "markdown",
      "source": [
        "## Cleaning the Data"
      ],
      "metadata": {
        "id": "JqDZvnhMqjVV"
      }
    },
    {
      "cell_type": "code",
      "source": [
        "# Remove the ID column\n",
        "df_clean = df_original.copy()\n",
        "df_clean.drop(columns=[\"ID\"], inplace=True)"
      ],
      "metadata": {
        "id": "Uo9eo89d9KeH"
      },
      "execution_count": null,
      "outputs": []
    },
    {
      "cell_type": "code",
      "source": [
        "# Replace missing Arrival Delay with Departure Delay values\n",
        "df_clean[\"Arrival Delay\"].fillna(df_clean[\"Departure Delay\"], inplace=True)\n",
        "df_clean[\"Arrival Delay\"] = df_clean[\"Arrival Delay\"].round().astype(int)\n",
        "\n",
        "# Verify that there are no more missing values\n",
        "print(\"Remaining missing Arrival Delay values:\",\n",
        "      df_clean[\"Arrival Delay\"].isnull().sum())\n",
        "print(\"Data type of Arrival Delay:\", df_clean[\"Arrival Delay\"].dtype)"
      ],
      "metadata": {
        "colab": {
          "base_uri": "https://localhost:8080/"
        },
        "id": "EjZh0Ab6BE6Y",
        "outputId": "a33af43d-6c37-4b99-a40b-4a91cd1f43a7"
      },
      "execution_count": null,
      "outputs": [
        {
          "output_type": "stream",
          "name": "stdout",
          "text": [
            "Remaining missing Arrival Delay values: 0\n",
            "Data type of Arrival Delay: int64\n"
          ]
        }
      ]
    },
    {
      "cell_type": "markdown",
      "source": [
        "####Scaling"
      ],
      "metadata": {
        "id": "YOGGMIOOhPWy"
      }
    },
    {
      "cell_type": "code",
      "source": [
        "# Scaling the numerical columns for use in Machine Learning algorithms\n",
        "numerical_cols = ['Age', 'Flight Distance', 'Departure Delay', 'Arrival Delay']\n",
        "\n",
        "scaler = StandardScaler()\n",
        "df_clean[numerical_cols] = scaler.fit_transform(df_clean[numerical_cols])\n",
        "\n",
        "print(df_clean[numerical_cols].head())\n"
      ],
      "metadata": {
        "colab": {
          "base_uri": "https://localhost:8080/"
        },
        "id": "93dF3JY0hV09",
        "outputId": "b44ad73d-c244-43d3-b7a4-f3cc77ab3b39"
      },
      "execution_count": null,
      "outputs": [
        {
          "output_type": "stream",
          "name": "stdout",
          "text": [
            "        Age  Flight Distance  Departure Delay  Arrival Delay\n",
            "0  0.566960        -0.370261        -0.333948      -0.263219\n",
            "1 -0.292868        -0.370261         0.296454       0.617623\n",
            "2  0.103976        -0.338179        -0.386481      -0.392754\n",
            "3  0.699242         0.716512        -0.386481      -0.392754\n",
            "4  0.633101         2.285515        -0.386481      -0.366847\n"
          ]
        }
      ]
    },
    {
      "cell_type": "markdown",
      "source": [
        "#### **Categorical Variables: Binarisation (0/1) and One Hot Encoding**"
      ],
      "metadata": {
        "id": "Ph87FZPjiCm5"
      }
    },
    {
      "cell_type": "markdown",
      "source": [
        "Columns with categories were identified as pandas type 'Object'.\n",
        "\n",
        "In order to make these categorical variables processable by the machine learning algorithms, they need to be converted to numbers. I will convert the categories of binary variables directly to 0 and 1, while for variables with more than one category I will use one-hot encoding.\n",
        "\n",
        "One-hot encoding is a technique used in data preprocessing to convert categorical data (with more than 2 categories) into a numerical format.  "
      ],
      "metadata": {
        "id": "gXol__pHjnvz"
      }
    },
    {
      "cell_type": "markdown",
      "source": [
        "Step 1: extract binary categorical variables to convert them to 0 and 1"
      ],
      "metadata": {
        "id": "X4rgoNd7ujRA"
      }
    },
    {
      "source": [
        "# Convert binary columns to 1's and 0's\n",
        "encoding_mappings = []\n",
        "\n",
        "object_cols = df_clean.select_dtypes(include=['object']).columns\n",
        "\n",
        "# Filter for columns with 2 or fewer unique values\n",
        "binary_categorical_cols = [col for col in object_cols\n",
        "                           if df_clean[col].nunique() <= 2]\n",
        "\n",
        "# Convert binary categorical columns to 0 and 1\n",
        "for col in binary_categorical_cols:\n",
        "    unique_values = df_clean[col].unique()\n",
        "    mapping = {unique_values[0]: 0, unique_values[1]: 1}\n",
        "    df_clean[col] = df_clean[col].map(mapping)\n",
        "    encoding_mappings.extend([[col, val, encoded] for val,\n",
        "                              encoded in mapping.items()])\n",
        "\n",
        "legend_table = pd.DataFrame(encoding_mappings, columns=[\"Column Name\",\n",
        "                                                        \"Original Value\",\n",
        "                                                        \"Encoded Value\"])\n",
        "\n",
        "print(legend_table)"
      ],
      "cell_type": "code",
      "metadata": {
        "colab": {
          "base_uri": "https://localhost:8080/"
        },
        "id": "wLhwXc3hvjnV",
        "outputId": "50fb30b0-4500-4ab6-c908-ee813303dad1"
      },
      "execution_count": null,
      "outputs": [
        {
          "output_type": "stream",
          "name": "stdout",
          "text": [
            "      Column Name           Original Value  Encoded Value\n",
            "0          Gender                     Male              0\n",
            "1          Gender                   Female              1\n",
            "2   Customer Type               First-time              0\n",
            "3   Customer Type                Returning              1\n",
            "4  Type of Travel                 Business              0\n",
            "5  Type of Travel                 Personal              1\n",
            "6    Satisfaction  Neutral or Dissatisfied              0\n",
            "7    Satisfaction                Satisfied              1\n"
          ]
        }
      ]
    },
    {
      "cell_type": "code",
      "source": [
        "# Check column names\n",
        "for col in df_clean.columns:\n",
        "  print(col)"
      ],
      "metadata": {
        "colab": {
          "base_uri": "https://localhost:8080/"
        },
        "id": "sO8F6o-w0JcQ",
        "outputId": "3a05c2b2-d3be-4517-c2cb-b44d679ef806"
      },
      "execution_count": null,
      "outputs": [
        {
          "output_type": "stream",
          "name": "stdout",
          "text": [
            "Gender\n",
            "Age\n",
            "Customer Type\n",
            "Type of Travel\n",
            "Class\n",
            "Flight Distance\n",
            "Departure Delay\n",
            "Arrival Delay\n",
            "Departure and Arrival Time Convenience\n",
            "Ease of Online Booking\n",
            "Check-in Service\n",
            "Online Boarding\n",
            "Gate Location\n",
            "On-board Service\n",
            "Seat Comfort\n",
            "Leg Room Service\n",
            "Cleanliness\n",
            "Food and Drink\n",
            "In-flight Service\n",
            "In-flight Wifi Service\n",
            "In-flight Entertainment\n",
            "Baggage Handling\n",
            "Satisfaction\n"
          ]
        }
      ]
    },
    {
      "cell_type": "markdown",
      "source": [
        "Step 2: extract categorical variables with more than two categories and One-hot Encode them"
      ],
      "metadata": {
        "id": "STX49JyRv7ba"
      }
    },
    {
      "cell_type": "code",
      "source": [
        "# Identify columns to One-hot Encode\n",
        "cols_to_Onehot_Encode = [\n",
        "    col for col in df_clean.select_dtypes(include='object')\n",
        "    if df_clean[col].nunique() > 2\n",
        "]\n",
        "\n",
        "cols_to_Onehot_Encode.extend(['Departure and Arrival Time Convenience',\n",
        "                              'Ease of Online Booking',\n",
        "                              'Check-in Service',\n",
        "                              'Online Boarding',\n",
        "                              'Gate Location',\n",
        "                              'On-board Service',\n",
        "                              'Seat Comfort',\n",
        "                              'Leg Room Service',\n",
        "                              'Cleanliness',\n",
        "                              'Food and Drink',\n",
        "                              'In-flight Service',\n",
        "                              'In-flight Wifi Service',\n",
        "                              'In-flight Entertainment',\n",
        "                              'Baggage Handling'])\n",
        "\n",
        "cols_to_Onehot_Encode"
      ],
      "metadata": {
        "colab": {
          "base_uri": "https://localhost:8080/"
        },
        "id": "f8mprb14wcc_",
        "outputId": "478171cd-7d62-49ec-fb1a-812fe6b09129"
      },
      "execution_count": null,
      "outputs": [
        {
          "output_type": "execute_result",
          "data": {
            "text/plain": [
              "['Class',\n",
              " 'Departure and Arrival Time Convenience',\n",
              " 'Ease of Online Booking',\n",
              " 'Check-in Service',\n",
              " 'Online Boarding',\n",
              " 'Gate Location',\n",
              " 'On-board Service',\n",
              " 'Seat Comfort',\n",
              " 'Leg Room Service',\n",
              " 'Cleanliness',\n",
              " 'Food and Drink',\n",
              " 'In-flight Service',\n",
              " 'In-flight Wifi Service',\n",
              " 'In-flight Entertainment',\n",
              " 'Baggage Handling']"
            ]
          },
          "metadata": {},
          "execution_count": 27
        }
      ]
    },
    {
      "cell_type": "code",
      "source": [
        "# Carry out the One-hot Encoding\n",
        "encoder = OneHotEncoder(sparse_output=False)\n",
        "one_hot_encoded = encoder.fit_transform(df_clean[cols_to_Onehot_Encode])\n",
        "\n",
        "encoded_column_names = encoder.get_feature_names_out(cols_to_Onehot_Encode)\n",
        "\n",
        "one_hot_df = pd.DataFrame(one_hot_encoded, columns=encoded_column_names)"
      ],
      "metadata": {
        "id": "gRybL_3s07gN"
      },
      "execution_count": null,
      "outputs": []
    },
    {
      "cell_type": "code",
      "source": [
        "# Collate columns back into data frame\n",
        "df_clean = pd.concat([df_clean, one_hot_df], axis=1)\n",
        "\n",
        "# Drop the original categorical columns\n",
        "df_clean = df_clean.drop(columns=cols_to_Onehot_Encode)\n",
        "df_clean.columns"
      ],
      "metadata": {
        "colab": {
          "base_uri": "https://localhost:8080/"
        },
        "id": "MfH63HwL1iN2",
        "outputId": "67829faf-3979-4327-f505-cb55b9e8199e"
      },
      "execution_count": null,
      "outputs": [
        {
          "output_type": "execute_result",
          "data": {
            "text/plain": [
              "Index(['Gender', 'Age', 'Customer Type', 'Type of Travel', 'Flight Distance',\n",
              "       'Departure Delay', 'Arrival Delay', 'Satisfaction', 'Class_Business',\n",
              "       'Class_Economy', 'Class_Economy Plus',\n",
              "       'Departure and Arrival Time Convenience_0',\n",
              "       'Departure and Arrival Time Convenience_1',\n",
              "       'Departure and Arrival Time Convenience_2',\n",
              "       'Departure and Arrival Time Convenience_3',\n",
              "       'Departure and Arrival Time Convenience_4',\n",
              "       'Departure and Arrival Time Convenience_5', 'Ease of Online Booking_0',\n",
              "       'Ease of Online Booking_1', 'Ease of Online Booking_2',\n",
              "       'Ease of Online Booking_3', 'Ease of Online Booking_4',\n",
              "       'Ease of Online Booking_5', 'Check-in Service_0', 'Check-in Service_1',\n",
              "       'Check-in Service_2', 'Check-in Service_3', 'Check-in Service_4',\n",
              "       'Check-in Service_5', 'Online Boarding_0', 'Online Boarding_1',\n",
              "       'Online Boarding_2', 'Online Boarding_3', 'Online Boarding_4',\n",
              "       'Online Boarding_5', 'Gate Location_0', 'Gate Location_1',\n",
              "       'Gate Location_2', 'Gate Location_3', 'Gate Location_4',\n",
              "       'Gate Location_5', 'On-board Service_0', 'On-board Service_1',\n",
              "       'On-board Service_2', 'On-board Service_3', 'On-board Service_4',\n",
              "       'On-board Service_5', 'Seat Comfort_0', 'Seat Comfort_1',\n",
              "       'Seat Comfort_2', 'Seat Comfort_3', 'Seat Comfort_4', 'Seat Comfort_5',\n",
              "       'Leg Room Service_0', 'Leg Room Service_1', 'Leg Room Service_2',\n",
              "       'Leg Room Service_3', 'Leg Room Service_4', 'Leg Room Service_5',\n",
              "       'Cleanliness_0', 'Cleanliness_1', 'Cleanliness_2', 'Cleanliness_3',\n",
              "       'Cleanliness_4', 'Cleanliness_5', 'Food and Drink_0',\n",
              "       'Food and Drink_1', 'Food and Drink_2', 'Food and Drink_3',\n",
              "       'Food and Drink_4', 'Food and Drink_5', 'In-flight Service_0',\n",
              "       'In-flight Service_1', 'In-flight Service_2', 'In-flight Service_3',\n",
              "       'In-flight Service_4', 'In-flight Service_5',\n",
              "       'In-flight Wifi Service_0', 'In-flight Wifi Service_1',\n",
              "       'In-flight Wifi Service_2', 'In-flight Wifi Service_3',\n",
              "       'In-flight Wifi Service_4', 'In-flight Wifi Service_5',\n",
              "       'In-flight Entertainment_0', 'In-flight Entertainment_1',\n",
              "       'In-flight Entertainment_2', 'In-flight Entertainment_3',\n",
              "       'In-flight Entertainment_4', 'In-flight Entertainment_5',\n",
              "       'Baggage Handling_1', 'Baggage Handling_2', 'Baggage Handling_3',\n",
              "       'Baggage Handling_4', 'Baggage Handling_5'],\n",
              "      dtype='object')"
            ]
          },
          "metadata": {},
          "execution_count": 29
        }
      ]
    },
    {
      "cell_type": "code",
      "source": [
        "# Create a table to identify the changes related to one-hot encoding\n",
        "changes = []\n",
        "\n",
        "for original_col in cols_to_Onehot_Encode:\n",
        "    original_values = df_original[original_col].unique()\n",
        "\n",
        "    for original_val in original_values:\n",
        "        new_col_name = original_col + '_' + str(original_val)\n",
        "\n",
        "        changes.append([original_col, original_val, new_col_name,\n",
        "                        f\"1 if the original value was '{original_val}' else 0\"])\n",
        "\n",
        "change_table = pd.DataFrame(changes, columns=[\"Original Column\",\n",
        "                                              \"Original Value\",\n",
        "                                              \"New Column\",\n",
        "                                              \"New Value Representation\"])\n",
        "\n",
        "# Save the change table to a CSV file\n",
        "change_table.to_csv('one_hot_encoding_changes.csv', index=False)\n",
        "print(\"One-hot encoding changes saved to one_hot_encoding_changes.csv\")"
      ],
      "metadata": {
        "colab": {
          "base_uri": "https://localhost:8080/"
        },
        "id": "ZU_cTPNk69a-",
        "outputId": "0fb148ce-8cda-4c81-f2c1-af7bc152f973"
      },
      "execution_count": null,
      "outputs": [
        {
          "output_type": "stream",
          "name": "stdout",
          "text": [
            "One-hot encoding changes saved to one_hot_encoding_changes.csv\n"
          ]
        }
      ]
    },
    {
      "cell_type": "markdown",
      "source": [
        "## Feature Engineering"
      ],
      "metadata": {
        "id": "7PyrQ62E5wa7"
      }
    },
    {
      "cell_type": "code",
      "source": [
        "# Create a Feature Engineering visualisation for Long Delay (>30 mins) for\n",
        "# Satisfaction\n",
        "df_feature_eng = df_original.copy()\n",
        "\n",
        "df_feature_eng[\"Long Delay\"] = (df_feature_eng[\"Arrival Delay\"] > 30).astype(int)\n",
        "\n",
        "plt.figure(figsize=(8, 6))\n",
        "sns.countplot(data=df_feature_eng,\n",
        "              x=\"Long Delay\",\n",
        "              hue=\"Satisfaction\",\n",
        "              palette=\"coolwarm\")\n",
        "plt.xticks([0, 1], ['Arrival Delay ≤ 30 mins', 'Arrival Delay > 30 mins'])\n",
        "plt.xlabel(\"Long Delay\")\n",
        "plt.ylabel(\"Number of Passengers\")\n",
        "plt.title(\"Impact of Long Arrival Delay (>30 mins) on Passenger Satisfaction\")\n",
        "plt.legend(title='Satisfaction')\n",
        "plt.grid(axis='y', linestyle='--', alpha=0.5)\n",
        "plt.tight_layout()\n",
        "plt.show()"
      ],
      "metadata": {
        "colab": {
          "base_uri": "https://localhost:8080/",
          "height": 601
        },
        "id": "3SdGfqiyPQT9",
        "outputId": "98cc543b-7b55-4b8c-e8ce-5dfea4b69f0e"
      },
      "execution_count": null,
      "outputs": [
        {
          "output_type": "display_data",
          "data": {
            "text/plain": [
              "<Figure size 800x600 with 1 Axes>"
            ],
            "image/png": "[encoded data removed]"
          },
          "metadata": {}
        }
      ]
    },
    {
      "cell_type": "code",
      "source": [
        "# Create a column for 'Loyal, Business Traveller'\n",
        "df_feature_eng[\"Loyal Business Traveler\"] = (\n",
        "    (df_feature_eng[\"Customer Type\"] == \"Returning\") &\n",
        "    (df_feature_eng[\"Type of Travel\"] == \"Business\")\n",
        ").astype(int)\n",
        "\n",
        "print(df_feature_eng[\"Loyal Business Traveler\"].value_counts().astype(int))\n",
        "\n",
        "plt.figure(figsize=(8, 6))\n",
        "sns.countplot(data=df_feature_eng,\n",
        "              x=\"Loyal Business Traveler\",\n",
        "              hue=\"Satisfaction\",\n",
        "              palette=\"pastel\")\n",
        "plt.xticks([0, 1], ['Others', 'Loyal Business Travelers'])\n",
        "plt.xlabel(\"Traveler Type\")\n",
        "plt.ylabel(\"Number of Passengers\")\n",
        "plt.title(\"Satisfaction by Traveler Type (Loyal Business Travelers vs Others)\")\n",
        "plt.legend(title='Satisfaction')\n",
        "plt.grid(axis='y', linestyle='--', alpha=0.5)\n",
        "plt.tight_layout()\n",
        "plt.show()"
      ],
      "metadata": {
        "colab": {
          "base_uri": "https://localhost:8080/",
          "height": 669
        },
        "id": "4LPDPIt3aOfu",
        "outputId": "d79d3a47-454c-4649-fd0e-a86aae856f05"
      },
      "execution_count": null,
      "outputs": [
        {
          "output_type": "stream",
          "name": "stdout",
          "text": [
            "Loyal Business Traveler\n",
            "1    66114\n",
            "0    63766\n",
            "Name: count, dtype: int64\n"
          ]
        },
        {
          "output_type": "display_data",
          "data": {
            "text/plain": [
              "<Figure size 800x600 with 1 Axes>"
            ],
            "image/png": "[encoded data removed]"
          },
          "metadata": {}
        }
      ]
    },
    {
      "cell_type": "code",
      "source": [
        "# Create the outputs folder if it doesn't exist\n",
        "os.makedirs(\"outputs\", exist_ok=True)\n",
        "\n",
        "# Save each DataFrame as a CSV\n",
        "df_clean.to_csv(\"outputs/df_clean.csv\", index=False)\n",
        "df_cluster_analysis.to_csv(\"outputs/df_cluster_analysis.csv\", index=False)\n",
        "df_feature_eng.to_csv(\"outputs/df_feature_eng.csv\", index=False)\n",
        "df_original.to_csv(\"outputs/df_original.csv\", index=False)\n",
        "print(\"✅ DataFrames exported to the 'outputs/' folder.\")"
      ],
      "metadata": {
        "id": "xENuYEwpAS6G",
        "colab": {
          "base_uri": "https://localhost:8080/"
        },
        "outputId": "0c295762-617d-45f3-806d-d137aa6478cc"
      },
      "execution_count": null,
      "outputs": [
        {
          "output_type": "stream",
          "name": "stdout",
          "text": [
            "✅ DataFrames exported to the 'outputs/' folder.\n"
          ]
        }
      ]
    }
  ]
}