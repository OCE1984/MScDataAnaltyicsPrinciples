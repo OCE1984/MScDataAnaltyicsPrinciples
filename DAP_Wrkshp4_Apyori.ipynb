{
  "nbformat": 4,
  "nbformat_minor": 0,
  "metadata": {
    "colab": {
      "provenance": []
    },
    "kernelspec": {
      "name": "python3",
      "display_name": "Python 3"
    },
    "language_info": {
      "name": "python"
    }
  },
  "cells": [
    {
      "cell_type": "markdown",
      "source": [
        "# Apriori\n",
        "\n",
        "The Python Apyori library is used in this example. The examples relates to question 6 in the week 4 weekly review."
      ],
      "metadata": {
        "id": "ZKNkwPwh6flw"
      }
    },
    {
      "cell_type": "code",
      "execution_count": null,
      "metadata": {
        "id": "tU9ruOkV6Axe"
      },
      "outputs": [],
      "source": [
        "!pip install apyori"
      ]
    },
    {
      "cell_type": "code",
      "source": [
        "import pandas as pd\n",
        "import numpy as np\n",
        "import matplotlib.pyplot as plt\n",
        "\n",
        "dataset = pd.read_csv('LibertyTrans.csv', header = None)\n",
        "dataset.shape\n"
      ],
      "metadata": {
        "id": "CgpH-uvC7AWI"
      },
      "execution_count": null,
      "outputs": []
    },
    {
      "cell_type": "code",
      "source": [
        "dataset.head()"
      ],
      "metadata": {
        "id": "Dw7GhDIu7BZr"
      },
      "execution_count": null,
      "outputs": []
    },
    {
      "cell_type": "code",
      "source": [
        "transactions = []\n",
        "for i in range(1, dataset.shape[0]):\n",
        "   nexttransaction=[]\n",
        "   for j in range(1, dataset.shape[1]):\n",
        "      if dataset.values[i,j] == \"1\":\n",
        "        nexttransaction.append(str(dataset.values[0, j]))\n",
        "   transactions.append(nexttransaction)\n",
        "\n",
        "for i in range(0, len(transactions)):\n",
        "  print(transactions[i])"
      ],
      "metadata": {
        "id": "z2AyKmUf7HO4"
      },
      "execution_count": null,
      "outputs": []
    },
    {
      "cell_type": "code",
      "source": [
        "from apyori import apriori\n",
        "\n",
        "\n",
        "rules = apriori(transactions, min_support = 0.33, min_confidence = 0.6,\n",
        "                min_lift = 1, min_length = 3)\n",
        "\n"
      ],
      "metadata": {
        "id": "AEPpM0wV7Uz6"
      },
      "execution_count": 86,
      "outputs": []
    },
    {
      "cell_type": "code",
      "source": [
        "results = list(rules)\n",
        "len(results)"
      ],
      "metadata": {
        "id": "E6v3b5bJSfv_"
      },
      "execution_count": null,
      "outputs": []
    },
    {
      "cell_type": "code",
      "source": [
        "print(results)"
      ],
      "metadata": {
        "id": "8aZKzgnT7leM"
      },
      "execution_count": null,
      "outputs": []
    },
    {
      "cell_type": "code",
      "source": [
        "structuredresults = pd.DataFrame(results)\n",
        "structuredresults"
      ],
      "metadata": {
        "id": "6bUaG6jT7q_I"
      },
      "execution_count": null,
      "outputs": []
    },
    {
      "cell_type": "code",
      "source": [
        "ResultsFrame = pd.DataFrame(columns=('Items','Antecedent','Consequent','Support','Confidence','Lift'))\n",
        "\n",
        "Support =[]\n",
        "Confidence = []\n",
        "Lift = []\n",
        "Items = []\n",
        "Antecedent = []\n",
        "Consequent=[]\n",
        "\n",
        "for RelationRecord in results:\n",
        "    for ordered_stat in RelationRecord.ordered_statistics:\n",
        "        Support.append(RelationRecord.support)\n",
        "        Items.append(RelationRecord.items)\n",
        "        Antecedent.append(ordered_stat.items_base)\n",
        "        Consequent.append(ordered_stat.items_add)\n",
        "        Confidence.append(ordered_stat.confidence)\n",
        "        Lift.append(ordered_stat.lift)\n",
        "\n",
        "\n",
        "ResultsFrame['Items'] = list(map(set, Items))\n",
        "ResultsFrame['Antecedent'] = list(map(set, Antecedent))\n",
        "ResultsFrame['Consequent'] = list(map(set, Consequent))\n",
        "ResultsFrame['Support'] = Support\n",
        "ResultsFrame['Confidence'] = Confidence\n",
        "ResultsFrame['Lift']= Lift\n"
      ],
      "metadata": {
        "id": "HhjzZxi-ItRD"
      },
      "execution_count": 91,
      "outputs": []
    },
    {
      "cell_type": "code",
      "source": [
        "ResultsFrame"
      ],
      "metadata": {
        "id": "rhqcoYQAOyXP"
      },
      "execution_count": null,
      "outputs": []
    },
    {
      "cell_type": "code",
      "source": [
        "ResultsFrame.sort_values(by ='Lift', ascending = False, inplace = True)"
      ],
      "metadata": {
        "id": "SHFkjug-PIFH"
      },
      "execution_count": 93,
      "outputs": []
    },
    {
      "cell_type": "code",
      "source": [
        "ResultsFrame"
      ],
      "metadata": {
        "id": "VBVZQbTbPLAG"
      },
      "execution_count": null,
      "outputs": []
    },
    {
      "cell_type": "markdown",
      "source": [
        "Note: A Lift value greater than 1 means that item B is likely to be bought if item A is bought, while a value less than 1 means that item B is unlikely to be bought if item A is bought. The formula is Support(A and B)/ Support(A)*Support(B). The higher the Lift value over 1 the more likely B will ocur when A occurs in a transaction."
      ],
      "metadata": {
        "id": "Xa3HtLEJ6evQ"
      }
    }
  ]
}